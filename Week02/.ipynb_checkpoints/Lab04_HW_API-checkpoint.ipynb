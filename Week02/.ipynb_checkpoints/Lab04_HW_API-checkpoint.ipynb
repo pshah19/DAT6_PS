{
 "metadata": {
  "celltoolbar": "Slideshow",
  "name": "",
  "signature": "sha256:0289de795922a5a48f9cb78f3a816419928c11774579b1354e9bb6fb4b7120e4"
 },
 "nbformat": 3,
 "nbformat_minor": 0,
 "worksheets": [
  {
   "cells": [
    {
     "cell_type": "markdown",
     "metadata": {
      "slideshow": {
       "slide_type": "slide"
      }
     },
     "source": [
      "Lab\n",
      "===================\n",
      "Twitter & MongoDB\n",
      "-------------------\n",
      "Alessandro D. Gagliardi"
     ]
    },
    {
     "cell_type": "markdown",
     "metadata": {
      "slideshow": {
       "slide_type": "subslide"
      }
     },
     "source": [
      "Importing Libraries\n",
      "-------------------"
     ]
    },
    {
     "cell_type": "code",
     "collapsed": false,
     "input": [
      "# standard library:\n",
      "import os  \n",
      "\n",
      "from pprint import pprint\n",
      "\n",
      "# other modules:\n",
      "import matplotlib.pyplot as plt\n",
      "import pandas as pd\n",
      "import twitter\n",
      "import yaml\n",
      "\n",
      "from pymongo import MongoClient\n",
      "%matplotlib inline "
     ],
     "language": "python",
     "metadata": {
      "slideshow": {
       "slide_type": "-"
      }
     },
     "outputs": [],
     "prompt_number": 2
    },
    {
     "cell_type": "markdown",
     "metadata": {
      "slideshow": {
       "slide_type": "slide"
      }
     },
     "source": [
      "Twitter Trends\n",
      "=============="
     ]
    },
    {
     "cell_type": "heading",
     "level": 3,
     "metadata": {
      "slideshow": {
       "slide_type": "subslide"
      }
     },
     "source": [
      "Connect to Twitter:"
     ]
    },
    {
     "cell_type": "code",
     "collapsed": false,
     "input": [
      "credentials = yaml.load(open(os.path.expanduser('~/api_cred.yml')))\n",
      "\n",
      "auth = twitter.oauth.OAuth(credentials['ACCESS_TOKEN'], \n",
      "                           credentials['ACCESS_TOKEN_SECRET'],\n",
      "                           credentials['API_KEY'],\n",
      "                           credentials['API_SECRET'])\n",
      "\n",
      "twitter_api = twitter.Twitter(auth=auth)"
     ],
     "language": "python",
     "metadata": {
      "slideshow": {
       "slide_type": "-"
      }
     },
     "outputs": [],
     "prompt_number": 3
    },
    {
     "cell_type": "code",
     "collapsed": false,
     "input": [
      "# The Yahoo! Where On Earth ID for the entire world is 1.\n",
      "# See https://dev.twitter.com/docs/api/1.1/get/trends/place and\n",
      "# http://developer.yahoo.com/geo/geoplanet/\n",
      "\n",
      "WORLD_WOE_ID = 1\n",
      "US_WOE_ID = 23424977\n",
      "\n",
      "# Prefix ID with the underscore for query string parameterization.\n",
      "# Without the underscore, the twitter package appends the ID value\n",
      "# to the URL itself as a special case keyword argument.\n",
      "\n",
      "world_trends = twitter_api.trends.place(_id=WORLD_WOE_ID)\n",
      "us_trends = twitter_api.trends.place(_id=US_WOE_ID)\n",
      "\n",
      "pprint(world_trends)"
     ],
     "language": "python",
     "metadata": {
      "slideshow": {
       "slide_type": "slide"
      }
     },
     "outputs": [
      {
       "output_type": "stream",
       "stream": "stdout",
       "text": [
        "[{u'as_of': u'2014-05-04T05:25:05Z',\n",
        "  u'created_at': u'2014-05-04T05:22:26Z',\n",
        "  u'locations': [{u'name': u'Worldwide', u'woeid': 1}],\n",
        "  u'trends': [{u'name': u'Grande Chino',\n",
        "               u'promoted_content': None,\n",
        "               u'query': u'%22Grande+Chino%22',\n",
        "               u'url': u'http://twitter.com/search?q=%22Grande+Chino%22'},\n",
        "              {u'name': u'#MoneyMayweather',\n",
        "               u'promoted_content': None,\n",
        "               u'query': u'%23MoneyMayweather',\n",
        "               u'url': u'http://twitter.com/search?q=%23MoneyMayweather'},\n",
        "              {u'name': u'#SpikersHavefunYa',\n",
        "               u'promoted_content': None,\n",
        "               u'query': u'%23SpikersHavefunYa',\n",
        "               u'url': u'http://twitter.com/search?q=%23SpikersHavefunYa'},\n",
        "              {u'name': u'#BeliebersWishGoodLucktoFloyd',\n",
        "               u'promoted_content': None,\n",
        "               u'query': u'%23BeliebersWishGoodLucktoFloyd',\n",
        "               u'url': u'http://twitter.com/search?q=%23BeliebersWishGoodLucktoFloyd'},\n",
        "              {u'name': u'#TeamMayweather',\n",
        "               u'promoted_content': None,\n",
        "               u'query': u'%23TeamMayweather',\n",
        "               u'url': u'http://twitter.com/search?q=%23TeamMayweather'},\n",
        "              {u'name': u'#MayweatherChicken',\n",
        "               u'promoted_content': None,\n",
        "               u'query': u'%23MayweatherChicken',\n",
        "               u'url': u'http://twitter.com/search?q=%23MayweatherChicken'},\n",
        "              {u'name': u'Happy Star Wars Day',\n",
        "               u'promoted_content': None,\n",
        "               u'query': u'%22Happy+Star+Wars+Day%22',\n",
        "               u'url': u'http://twitter.com/search?q=%22Happy+Star+Wars+Day%22'},\n",
        "              {u'name': u'4812 Espectadores',\n",
        "               u'promoted_content': None,\n",
        "               u'query': u'%224812+Espectadores%22',\n",
        "               u'url': u'http://twitter.com/search?q=%224812+Espectadores%22'},\n",
        "              {u'name': u'Majority Decision',\n",
        "               u'promoted_content': None,\n",
        "               u'query': u'%22Majority+Decision%22',\n",
        "               u'url': u'http://twitter.com/search?q=%22Majority+Decision%22'},\n",
        "              {u'name': u'Fight Pacquiao',\n",
        "               u'promoted_content': None,\n",
        "               u'query': u'%22Fight+Pacquiao%22',\n",
        "               u'url': u'http://twitter.com/search?q=%22Fight+Pacquiao%22'}]}]\n"
       ]
      }
     ],
     "prompt_number": 4
    },
    {
     "cell_type": "code",
     "collapsed": false,
     "input": [
      "pprint(us_trends)"
     ],
     "language": "python",
     "metadata": {
      "slideshow": {
       "slide_type": "subslide"
      }
     },
     "outputs": [
      {
       "output_type": "stream",
       "stream": "stdout",
       "text": [
        "[{u'as_of': u'2014-04-24T02:48:10Z',\n",
        "  u'created_at': u'2014-04-24T02:41:49Z',\n",
        "  u'locations': [{u'name': u'United States', u'woeid': 23424977}],\n",
        "  u'trends': [{u'name': u'Aldridge and Howard',\n",
        "               u'promoted_content': None,\n",
        "               u'query': u'%22Aldridge+and+Howard%22',\n",
        "               u'url': u'http://twitter.com/search?q=%22Aldridge+and+Howard%22'},\n",
        "              {u'name': u'#joneshurryup',\n",
        "               u'promoted_content': None,\n",
        "               u'query': u'%23joneshurryup',\n",
        "               u'url': u'http://twitter.com/search?q=%23joneshurryup'},\n",
        "              {u'name': u'Dynamic Diamond Dolls',\n",
        "               u'promoted_content': None,\n",
        "               u'query': u'%22Dynamic+Diamond+Dolls%22',\n",
        "               u'url': u'http://twitter.com/search?q=%22Dynamic+Diamond+Dolls%22'},\n",
        "              {u'name': u'#WhyLieIf',\n",
        "               u'promoted_content': None,\n",
        "               u'query': u'%23WhyLieIf',\n",
        "               u'url': u'http://twitter.com/search?q=%23WhyLieIf'},\n",
        "              {u'name': u'#ReplaceaMovieQuotewithaBrand',\n",
        "               u'promoted_content': None,\n",
        "               u'query': u'%23ReplaceaMovieQuotewithaBrand',\n",
        "               u'url': u'http://twitter.com/search?q=%23ReplaceaMovieQuotewithaBrand'},\n",
        "              {u'name': u'#AReasonWhyIHaveTrustIssues',\n",
        "               u'promoted_content': None,\n",
        "               u'query': u'%23AReasonWhyIHaveTrustIssues',\n",
        "               u'url': u'http://twitter.com/search?q=%23AReasonWhyIHaveTrustIssues'},\n",
        "              {u'name': u'#NFLSchedule',\n",
        "               u'promoted_content': None,\n",
        "               u'query': u'%23NFLSchedule',\n",
        "               u'url': u'http://twitter.com/search?q=%23NFLSchedule'},\n",
        "              {u'name': u'Country Strong',\n",
        "               u'promoted_content': None,\n",
        "               u'query': u'%22Country+Strong%22',\n",
        "               u'url': u'http://twitter.com/search?q=%22Country+Strong%22'},\n",
        "              {u'name': u'Corey Perry',\n",
        "               u'promoted_content': None,\n",
        "               u'query': u'%22Corey+Perry%22',\n",
        "               u'url': u'http://twitter.com/search?q=%22Corey+Perry%22'},\n",
        "              {u'name': u'Andy Dick',\n",
        "               u'promoted_content': None,\n",
        "               u'query': u'%22Andy+Dick%22',\n",
        "               u'url': u'http://twitter.com/search?q=%22Andy+Dick%22'}]}]\n"
       ]
      }
     ],
     "prompt_number": 6
    },
    {
     "cell_type": "heading",
     "level": 3,
     "metadata": {
      "slideshow": {
       "slide_type": "subslide"
      }
     },
     "source": [
      "Do any of these trends intersect?"
     ]
    },
    {
     "cell_type": "code",
     "collapsed": false,
     "input": [
      "world_trends_set = set([trend['name'] for trends in world_trends\n",
      "                        for trend in trends['trends']])\n",
      "\n",
      "us_trends_set = set([trend['name'] for trends in us_trends\n",
      "                     for trend in trends['trends']]) \n",
      "\n",
      "world_trends_set.intersection(us_trends_set)"
     ],
     "language": "python",
     "metadata": {
      "slideshow": {
       "slide_type": "fragment"
      }
     },
     "outputs": [
      {
       "metadata": {},
       "output_type": "pyout",
       "prompt_number": 5,
       "text": [
        "{u'#MoneyMayweather', u'Happy Star Wars Day', u'Majority Decision'}"
       ]
      }
     ],
     "prompt_number": 5
    },
    {
     "cell_type": "markdown",
     "metadata": {
      "slideshow": {
       "slide_type": "slide"
      }
     },
     "source": [
      "Twitter Statuses\n",
      "================"
     ]
    },
    {
     "cell_type": "code",
     "collapsed": false,
     "input": [
      "q = world_trends[0]['trends'][0]['name']\n",
      "\n",
      "count = 100\n",
      "\n",
      "# See https://dev.twitter.com/docs/api/1.1/get/search/tweets\n",
      "\n",
      "search_results = twitter_api.search.tweets(q=q, count=count)\n",
      "\n",
      "statuses = search_results['statuses']"
     ],
     "language": "python",
     "metadata": {
      "slideshow": {
       "slide_type": "fragment"
      }
     },
     "outputs": [],
     "prompt_number": 10
    },
    {
     "cell_type": "code",
     "collapsed": false,
     "input": [
      "len(statuses)"
     ],
     "language": "python",
     "metadata": {
      "slideshow": {
       "slide_type": "fragment"
      }
     },
     "outputs": [
      {
       "metadata": {},
       "output_type": "pyout",
       "prompt_number": 12,
       "text": [
        "99"
       ]
      }
     ],
     "prompt_number": 12
    },
    {
     "cell_type": "heading",
     "level": 3,
     "metadata": {
      "slideshow": {
       "slide_type": "subslide"
      }
     },
     "source": [
      "More?"
     ]
    },
    {
     "cell_type": "code",
     "collapsed": false,
     "input": [
      "search_results['search_metadata'].get('next_results')"
     ],
     "language": "python",
     "metadata": {
      "slideshow": {
       "slide_type": "fragment"
      }
     },
     "outputs": [],
     "prompt_number": 13
    },
    {
     "cell_type": "code",
     "collapsed": false,
     "input": [
      "if 'next_results' in search_results['search_metadata']:\n",
      "    next_results = search_results['search_metadata']['next_results']\n",
      "    kwargs = dict([ kv.split('=') for kv in next_results[1:].split(\"&\") ])\n",
      "    search_results = twitter_api.search.tweets(**kwargs)\n",
      "    statuses += search_results['statuses']\n",
      "\n",
      "len(statuses)"
     ],
     "language": "python",
     "metadata": {
      "slideshow": {
       "slide_type": "fragment"
      }
     },
     "outputs": [
      {
       "metadata": {},
       "output_type": "pyout",
       "prompt_number": 14,
       "text": [
        "99"
       ]
      }
     ],
     "prompt_number": 14
    },
    {
     "cell_type": "code",
     "collapsed": false,
     "input": [],
     "language": "python",
     "metadata": {},
     "outputs": []
    },
    {
     "cell_type": "markdown",
     "metadata": {
      "slideshow": {
       "slide_type": "slide"
      }
     },
     "source": [
      "Mongo\n",
      "====="
     ]
    },
    {
     "cell_type": "markdown",
     "metadata": {
      "slideshow": {
       "slide_type": "subslide"
      }
     },
     "source": [
      "from the command line:\n",
      "```bash\n",
      "$ mkdir -p data/db\n",
      "$ mongod --dbpath data/db\n",
      "```"
     ]
    },
    {
     "cell_type": "heading",
     "level": 3,
     "metadata": {
      "slideshow": {
       "slide_type": "slide"
      }
     },
     "source": [
      "Connect to our Mongo database management server (DBMS):"
     ]
    },
    {
     "cell_type": "code",
     "collapsed": false,
     "input": [
      "c = MongoClient()"
     ],
     "language": "python",
     "metadata": {
      "slideshow": {
       "slide_type": "fragment"
      }
     },
     "outputs": [],
     "prompt_number": 16
    },
    {
     "cell_type": "heading",
     "level": 4,
     "metadata": {
      "slideshow": {
       "slide_type": "fragment"
      }
     },
     "source": [
      "Create a database called `twitter`:"
     ]
    },
    {
     "cell_type": "code",
     "collapsed": false,
     "input": [
      "db = c.twitter"
     ],
     "language": "python",
     "metadata": {
      "slideshow": {
       "slide_type": "fragment"
      }
     },
     "outputs": [],
     "prompt_number": 17
    },
    {
     "cell_type": "markdown",
     "metadata": {
      "slideshow": {
       "slide_type": "notes"
      }
     },
     "source": [
      "##### Yes, it's that easy."
     ]
    },
    {
     "cell_type": "heading",
     "level": 4,
     "metadata": {
      "slideshow": {
       "slide_type": "slide"
      }
     },
     "source": [
      "Insert the results we pulled from Twitter and store them as a document in a collection named `tweets`:"
     ]
    },
    {
     "cell_type": "code",
     "collapsed": false,
     "input": [
      "statuses_ids = db.tweets.insert(statuses)\n",
      "statuses_ids[:5]"
     ],
     "language": "python",
     "metadata": {
      "slideshow": {
       "slide_type": "fragment"
      }
     },
     "outputs": [
      {
       "metadata": {},
       "output_type": "pyout",
       "prompt_number": 18,
       "text": [
        "[ObjectId('5365d29b0370cc069749c410'),\n",
        " ObjectId('5365d29b0370cc069749c411'),\n",
        " ObjectId('5365d29b0370cc069749c412'),\n",
        " ObjectId('5365d29b0370cc069749c413'),\n",
        " ObjectId('5365d29b0370cc069749c414')]"
       ]
      }
     ],
     "prompt_number": 18
    },
    {
     "cell_type": "heading",
     "level": 3,
     "metadata": {
      "slideshow": {
       "slide_type": "slide"
      }
     },
     "source": [
      "`ObjectId`s"
     ]
    },
    {
     "cell_type": "markdown",
     "metadata": {
      "slideshow": {
       "slide_type": "fragment"
      }
     },
     "source": [
      "**ObjectId** is a 12-byte **BSON** type, constructed using:\n",
      "\n",
      "-    a 4-byte value representing the seconds since the Unix epoch,\n",
      "-    a 3-byte machine identifier,\n",
      "-    a 2-byte process id, and\n",
      "-    a 3-byte counter, starting with a random value.\n",
      "\n",
      "In MongoDB, documents stored in a collection require a unique `_id` field that acts as a **primary key**. Because ObjectIds are small, most likely unique, and fast to generate, MongoDB uses ObjectIds as the default value for the `_id` field if the `_id` field is not specified. \n",
      "\n",
      "<!--small><i>from http://docs.mongodb.org/manual/reference/object-id/</i></small-->"
     ]
    },
    {
     "cell_type": "markdown",
     "metadata": {
      "slideshow": {
       "slide_type": "notes"
      }
     },
     "source": [
      "Using ObjectIds for the `_id` field provides the following additional benefits:\n",
      "\n",
      "- you can access the insertion time of the ObjectId, using the `.generation_time` property in pymongo. \n",
      "- sorting on an `_id` field that stores ObjectId values is roughly equivalent to sorting by insertion time."
     ]
    },
    {
     "cell_type": "heading",
     "level": 3,
     "metadata": {
      "slideshow": {
       "slide_type": "slide"
      }
     },
     "source": [
      "Test the contents of our database:"
     ]
    },
    {
     "cell_type": "code",
     "collapsed": false,
     "input": [
      "c.database_names()"
     ],
     "language": "python",
     "metadata": {
      "slideshow": {
       "slide_type": "fragment"
      }
     },
     "outputs": [
      {
       "metadata": {},
       "output_type": "pyout",
       "prompt_number": 19,
       "text": [
        "[u'local', u'twitter', u'admin']"
       ]
      }
     ],
     "prompt_number": 19
    },
    {
     "cell_type": "code",
     "collapsed": false,
     "input": [
      "db = c.twitter\n",
      "db.collection_names()"
     ],
     "language": "python",
     "metadata": {
      "slideshow": {
       "slide_type": "fragment"
      }
     },
     "outputs": [
      {
       "metadata": {},
       "output_type": "pyout",
       "prompt_number": 20,
       "text": [
        "[u'tweets', u'system.indexes']"
       ]
      }
     ],
     "prompt_number": 20
    },
    {
     "cell_type": "code",
     "collapsed": false,
     "input": [
      "db.tweets.find_one()"
     ],
     "language": "python",
     "metadata": {
      "slideshow": {
       "slide_type": "fragment"
      }
     },
     "outputs": [
      {
       "metadata": {},
       "output_type": "pyout",
       "prompt_number": 21,
       "text": [
        "{u'_id': ObjectId('5365d29b0370cc069749c414'),\n",
        " u'contributors': None,\n",
        " u'coordinates': None,\n",
        " u'created_at': u'Sun May 04 05:35:50 +0000 2014',\n",
        " u'entities': {u'hashtags': [],\n",
        "  u'symbols': [],\n",
        "  u'urls': [{u'display_url': u'youtu.be/rXCbSIKB9mI',\n",
        "    u'expanded_url': u'http://youtu.be/rXCbSIKB9mI',\n",
        "    u'indices': [41, 63],\n",
        "    u'url': u'http://t.co/mMqrtcjvCX'}],\n",
        "  u'user_mentions': []},\n",
        " u'favorite_count': 0,\n",
        " u'favorited': False,\n",
        " u'geo': None,\n",
        " u'id': 462827922194051072L,\n",
        " u'id_str': u'462827922194051072',\n",
        " u'in_reply_to_screen_name': None,\n",
        " u'in_reply_to_status_id': None,\n",
        " u'in_reply_to_status_id_str': None,\n",
        " u'in_reply_to_user_id': None,\n",
        " u'in_reply_to_user_id_str': None,\n",
        " u'lang': u'es',\n",
        " u'metadata': {u'iso_language_code': u'es', u'result_type': u'recent'},\n",
        " u'place': None,\n",
        " u'possibly_sensitive': False,\n",
        " u'retweet_count': 0,\n",
        " u'retweeted': False,\n",
        " u'source': u'<a href=\"http://twitter.com/tweetbutton\" rel=\"nofollow\">Tweet Button</a>',\n",
        " u'text': u'Grande Chino Los Pericos ~ Sin Cadenas : http://t.co/mMqrtcjvCX',\n",
        " u'truncated': False,\n",
        " u'user': {u'contributors_enabled': False,\n",
        "  u'created_at': u'Thu May 06 06:33:32 +0000 2010',\n",
        "  u'default_profile': False,\n",
        "  u'default_profile_image': False,\n",
        "  u'description': u'X',\n",
        "  u'entities': {u'description': {u'urls': []},\n",
        "   u'url': {u'urls': [{u'display_url': u'facebook.com/Marc0LuXMaTT13\\u2026',\n",
        "      u'expanded_url': u'https://www.facebook.com/Marc0LuXMaTT13?ref=tn_tnmn',\n",
        "      u'indices': [0, 23],\n",
        "      u'url': u'https://t.co/VzIqlqYxo1'}]}},\n",
        "  u'favourites_count': 2205,\n",
        "  u'follow_request_sent': False,\n",
        "  u'followers_count': 53,\n",
        "  u'following': False,\n",
        "  u'friends_count': 370,\n",
        "  u'geo_enabled': True,\n",
        "  u'id': 140716576,\n",
        "  u'id_str': u'140716576',\n",
        "  u'is_translation_enabled': False,\n",
        "  u'is_translator': False,\n",
        "  u'lang': u'es',\n",
        "  u'listed_count': 2,\n",
        "  u'location': u'San Luis ',\n",
        "  u'name': u'Mario CasaZZa MaTTus',\n",
        "  u'notifications': False,\n",
        "  u'profile_background_color': u'131516',\n",
        "  u'profile_background_image_url': u'http://pbs.twimg.com/profile_background_images/378800000105481993/322781868530d86cbc043c73f9a6f55f.jpeg',\n",
        "  u'profile_background_image_url_https': u'https://pbs.twimg.com/profile_background_images/378800000105481993/322781868530d86cbc043c73f9a6f55f.jpeg',\n",
        "  u'profile_background_tile': True,\n",
        "  u'profile_banner_url': u'https://pbs.twimg.com/profile_banners/140716576/1392275044',\n",
        "  u'profile_image_url': u'http://pbs.twimg.com/profile_images/462248438176808960/7OVq9sAd_normal.jpeg',\n",
        "  u'profile_image_url_https': u'https://pbs.twimg.com/profile_images/462248438176808960/7OVq9sAd_normal.jpeg',\n",
        "  u'profile_link_color': u'009999',\n",
        "  u'profile_sidebar_border_color': u'000000',\n",
        "  u'profile_sidebar_fill_color': u'EFEFEF',\n",
        "  u'profile_text_color': u'333333',\n",
        "  u'profile_use_background_image': True,\n",
        "  u'protected': False,\n",
        "  u'screen_name': u'Marc0_013',\n",
        "  u'statuses_count': 26053,\n",
        "  u'time_zone': u'Buenos Aires',\n",
        "  u'url': u'https://t.co/VzIqlqYxo1',\n",
        "  u'utc_offset': -10800,\n",
        "  u'verified': False}}"
       ]
      }
     ],
     "prompt_number": 21
    },
    {
     "cell_type": "markdown",
     "metadata": {
      "slideshow": {
       "slide_type": "notes"
      }
     },
     "source": [
      "Notice the `_id` included in the document along with the values we already saw before."
     ]
    },
    {
     "cell_type": "markdown",
     "metadata": {
      "slideshow": {
       "slide_type": "slide"
      }
     },
     "source": [
      "Now that we have our data in MongoDB, we can use some of it's search functionality. For example:"
     ]
    },
    {
     "cell_type": "code",
     "collapsed": false,
     "input": [
      "popular_tweets = db.tweets.find({'retweet_count': {\"$gte\": 3}})\n",
      "popular_tweets.count()"
     ],
     "language": "python",
     "metadata": {
      "slideshow": {
       "slide_type": "fragment"
      }
     },
     "outputs": [
      {
       "metadata": {},
       "output_type": "pyout",
       "prompt_number": 22,
       "text": [
        "39"
       ]
      }
     ],
     "prompt_number": 22
    },
    {
     "cell_type": "markdown",
     "metadata": {
      "slideshow": {
       "slide_type": "slide"
      }
     },
     "source": [
      "Making Sense with Pandas\n",
      "========================"
     ]
    },
    {
     "cell_type": "code",
     "collapsed": false,
     "input": [
      "df = pd.DataFrame(list(db.tweets.find(fields=['created_at', 'retweet_count', 'favorite_count'])))\n",
      "df.head()"
     ],
     "language": "python",
     "metadata": {
      "slideshow": {
       "slide_type": "slide"
      }
     },
     "outputs": [
      {
       "html": [
        "<div style=\"max-height:1000px;max-width:1500px;overflow:auto;\">\n",
        "<table border=\"1\" class=\"dataframe\">\n",
        "  <thead>\n",
        "    <tr style=\"text-align: right;\">\n",
        "      <th></th>\n",
        "      <th>_id</th>\n",
        "      <th>created_at</th>\n",
        "      <th>favorite_count</th>\n",
        "      <th>retweet_count</th>\n",
        "    </tr>\n",
        "  </thead>\n",
        "  <tbody>\n",
        "    <tr>\n",
        "      <th>0</th>\n",
        "      <td> 5365d29b0370cc069749c414</td>\n",
        "      <td> Sun May 04 05:35:50 +0000 2014</td>\n",
        "      <td> 0</td>\n",
        "      <td>   0</td>\n",
        "    </tr>\n",
        "    <tr>\n",
        "      <th>1</th>\n",
        "      <td> 5365d29b0370cc069749c41f</td>\n",
        "      <td> Sun May 04 05:35:48 +0000 2014</td>\n",
        "      <td> 0</td>\n",
        "      <td>   0</td>\n",
        "    </tr>\n",
        "    <tr>\n",
        "      <th>2</th>\n",
        "      <td> 5365d29b0370cc069749c410</td>\n",
        "      <td> Sun May 04 05:35:50 +0000 2014</td>\n",
        "      <td> 0</td>\n",
        "      <td>   7</td>\n",
        "    </tr>\n",
        "    <tr>\n",
        "      <th>3</th>\n",
        "      <td> 5365d29b0370cc069749c411</td>\n",
        "      <td> Sun May 04 05:35:50 +0000 2014</td>\n",
        "      <td> 0</td>\n",
        "      <td>   1</td>\n",
        "    </tr>\n",
        "    <tr>\n",
        "      <th>4</th>\n",
        "      <td> 5365d29b0370cc069749c412</td>\n",
        "      <td> Sun May 04 05:35:50 +0000 2014</td>\n",
        "      <td> 0</td>\n",
        "      <td> 128</td>\n",
        "    </tr>\n",
        "  </tbody>\n",
        "</table>\n",
        "<p>5 rows \u00d7 4 columns</p>\n",
        "</div>"
       ],
       "metadata": {},
       "output_type": "pyout",
       "prompt_number": 31,
       "text": [
        "                        _id                      created_at  favorite_count  \\\n",
        "0  5365d29b0370cc069749c414  Sun May 04 05:35:50 +0000 2014               0   \n",
        "1  5365d29b0370cc069749c41f  Sun May 04 05:35:48 +0000 2014               0   \n",
        "2  5365d29b0370cc069749c410  Sun May 04 05:35:50 +0000 2014               0   \n",
        "3  5365d29b0370cc069749c411  Sun May 04 05:35:50 +0000 2014               0   \n",
        "4  5365d29b0370cc069749c412  Sun May 04 05:35:50 +0000 2014               0   \n",
        "\n",
        "   retweet_count  \n",
        "0              0  \n",
        "1              0  \n",
        "2              7  \n",
        "3              1  \n",
        "4            128  \n",
        "\n",
        "[5 rows x 4 columns]"
       ]
      }
     ],
     "prompt_number": 31
    },
    {
     "cell_type": "code",
     "collapsed": false,
     "input": [
      "retweet_favorites = pd.DataFrame(list(db.tweets.find(fields=['created_at','retweet_count','favorite_count'])))\n",
      "retweet_favorites.head()"
     ],
     "language": "python",
     "metadata": {
      "slideshow": {
       "slide_type": "subslide"
      }
     },
     "outputs": [
      {
       "html": [
        "<div style=\"max-height:1000px;max-width:1500px;overflow:auto;\">\n",
        "<table border=\"1\" class=\"dataframe\">\n",
        "  <thead>\n",
        "    <tr style=\"text-align: right;\">\n",
        "      <th></th>\n",
        "      <th>_id</th>\n",
        "      <th>created_at</th>\n",
        "      <th>favorite_count</th>\n",
        "      <th>retweet_count</th>\n",
        "    </tr>\n",
        "  </thead>\n",
        "  <tbody>\n",
        "    <tr>\n",
        "      <th>0</th>\n",
        "      <td> 5365d29b0370cc069749c414</td>\n",
        "      <td> Sun May 04 05:35:50 +0000 2014</td>\n",
        "      <td> 0</td>\n",
        "      <td>   0</td>\n",
        "    </tr>\n",
        "    <tr>\n",
        "      <th>1</th>\n",
        "      <td> 5365d29b0370cc069749c41f</td>\n",
        "      <td> Sun May 04 05:35:48 +0000 2014</td>\n",
        "      <td> 0</td>\n",
        "      <td>   0</td>\n",
        "    </tr>\n",
        "    <tr>\n",
        "      <th>2</th>\n",
        "      <td> 5365d29b0370cc069749c410</td>\n",
        "      <td> Sun May 04 05:35:50 +0000 2014</td>\n",
        "      <td> 0</td>\n",
        "      <td>   7</td>\n",
        "    </tr>\n",
        "    <tr>\n",
        "      <th>3</th>\n",
        "      <td> 5365d29b0370cc069749c411</td>\n",
        "      <td> Sun May 04 05:35:50 +0000 2014</td>\n",
        "      <td> 0</td>\n",
        "      <td>   1</td>\n",
        "    </tr>\n",
        "    <tr>\n",
        "      <th>4</th>\n",
        "      <td> 5365d29b0370cc069749c412</td>\n",
        "      <td> Sun May 04 05:35:50 +0000 2014</td>\n",
        "      <td> 0</td>\n",
        "      <td> 128</td>\n",
        "    </tr>\n",
        "  </tbody>\n",
        "</table>\n",
        "<p>5 rows \u00d7 4 columns</p>\n",
        "</div>"
       ],
       "metadata": {},
       "output_type": "pyout",
       "prompt_number": 32,
       "text": [
        "                        _id                      created_at  favorite_count  \\\n",
        "0  5365d29b0370cc069749c414  Sun May 04 05:35:50 +0000 2014               0   \n",
        "1  5365d29b0370cc069749c41f  Sun May 04 05:35:48 +0000 2014               0   \n",
        "2  5365d29b0370cc069749c410  Sun May 04 05:35:50 +0000 2014               0   \n",
        "3  5365d29b0370cc069749c411  Sun May 04 05:35:50 +0000 2014               0   \n",
        "4  5365d29b0370cc069749c412  Sun May 04 05:35:50 +0000 2014               0   \n",
        "\n",
        "   retweet_count  \n",
        "0              0  \n",
        "1              0  \n",
        "2              7  \n",
        "3              1  \n",
        "4            128  \n",
        "\n",
        "[5 rows x 4 columns]"
       ]
      }
     ],
     "prompt_number": 32
    },
    {
     "cell_type": "markdown",
     "metadata": {
      "slideshow": {
       "slide_type": "slide"
      }
     },
     "source": [
      "`.describe()` is a useful method to get the gist of our data."
     ]
    },
    {
     "cell_type": "code",
     "collapsed": false,
     "input": [
      "retweet_favorites.describe()"
     ],
     "language": "python",
     "metadata": {
      "slideshow": {
       "slide_type": "-"
      }
     },
     "outputs": [
      {
       "html": [
        "<div style=\"max-height:1000px;max-width:1500px;overflow:auto;\">\n",
        "<table border=\"1\" class=\"dataframe\">\n",
        "  <thead>\n",
        "    <tr style=\"text-align: right;\">\n",
        "      <th></th>\n",
        "      <th>favorite_count</th>\n",
        "      <th>retweet_count</th>\n",
        "    </tr>\n",
        "  </thead>\n",
        "  <tbody>\n",
        "    <tr>\n",
        "      <th>count</th>\n",
        "      <td> 99.000000</td>\n",
        "      <td>   99.00000</td>\n",
        "    </tr>\n",
        "    <tr>\n",
        "      <th>mean</th>\n",
        "      <td>  0.010101</td>\n",
        "      <td>   39.40404</td>\n",
        "    </tr>\n",
        "    <tr>\n",
        "      <th>std</th>\n",
        "      <td>  0.100504</td>\n",
        "      <td>  120.50700</td>\n",
        "    </tr>\n",
        "    <tr>\n",
        "      <th>min</th>\n",
        "      <td>  0.000000</td>\n",
        "      <td>    0.00000</td>\n",
        "    </tr>\n",
        "    <tr>\n",
        "      <th>25%</th>\n",
        "      <td>  0.000000</td>\n",
        "      <td>    0.00000</td>\n",
        "    </tr>\n",
        "    <tr>\n",
        "      <th>50%</th>\n",
        "      <td>  0.000000</td>\n",
        "      <td>    1.00000</td>\n",
        "    </tr>\n",
        "    <tr>\n",
        "      <th>75%</th>\n",
        "      <td>  0.000000</td>\n",
        "      <td>   31.00000</td>\n",
        "    </tr>\n",
        "    <tr>\n",
        "      <th>max</th>\n",
        "      <td>  1.000000</td>\n",
        "      <td> 1078.00000</td>\n",
        "    </tr>\n",
        "  </tbody>\n",
        "</table>\n",
        "<p>8 rows \u00d7 2 columns</p>\n",
        "</div>"
       ],
       "metadata": {},
       "output_type": "pyout",
       "prompt_number": 33,
       "text": [
        "       favorite_count  retweet_count\n",
        "count       99.000000       99.00000\n",
        "mean         0.010101       39.40404\n",
        "std          0.100504      120.50700\n",
        "min          0.000000        0.00000\n",
        "25%          0.000000        0.00000\n",
        "50%          0.000000        1.00000\n",
        "75%          0.000000       31.00000\n",
        "max          1.000000     1078.00000\n",
        "\n",
        "[8 rows x 2 columns]"
       ]
      }
     ],
     "prompt_number": 33
    },
    {
     "cell_type": "markdown",
     "metadata": {
      "slideshow": {
       "slide_type": "subslide"
      }
     },
     "source": [
      "However, when applied to a DataFrame, it only describes numeric columns."
     ]
    },
    {
     "cell_type": "code",
     "collapsed": false,
     "input": [
      "retweet_favorites.dtypes"
     ],
     "language": "python",
     "metadata": {
      "slideshow": {
       "slide_type": "-"
      }
     },
     "outputs": [
      {
       "metadata": {},
       "output_type": "pyout",
       "prompt_number": 34,
       "text": [
        "_id               object\n",
        "created_at        object\n",
        "favorite_count     int64\n",
        "retweet_count      int64\n",
        "dtype: object"
       ]
      }
     ],
     "prompt_number": 34
    },
    {
     "cell_type": "markdown",
     "metadata": {
      "slideshow": {
       "slide_type": "subslide"
      }
     },
     "source": [
      "`.describe()` can be called on individual columns (i.e. `Series`), even if they are not numeric."
     ]
    },
    {
     "cell_type": "code",
     "collapsed": false,
     "input": [
      "retweet_favorites.created_at.describe()"
     ],
     "language": "python",
     "metadata": {
      "slideshow": {
       "slide_type": "-"
      }
     },
     "outputs": [
      {
       "metadata": {},
       "output_type": "pyout",
       "prompt_number": 35,
       "text": [
        "count                                 99\n",
        "unique                                12\n",
        "top       Sun May 04 05:35:44 +0000 2014\n",
        "freq                                  13\n",
        "Name: created_at, dtype: object"
       ]
      }
     ],
     "prompt_number": 35
    },
    {
     "cell_type": "markdown",
     "metadata": {
      "slideshow": {
       "slide_type": "fragment"
      }
     },
     "source": [
      "However, in this case `created_at` is being treated as a string, which is not very helpful. We can fix that with `pandas.to_datetime`:"
     ]
    },
    {
     "cell_type": "code",
     "collapsed": false,
     "input": [
      "retweet_favorites.created_at.map(pd.to_datetime).describe()"
     ],
     "language": "python",
     "metadata": {
      "slideshow": {
       "slide_type": "fragment"
      }
     },
     "outputs": [
      {
       "metadata": {},
       "output_type": "pyout",
       "prompt_number": 36,
       "text": [
        "count                      99\n",
        "unique                     12\n",
        "first     2014-05-04 05:35:39\n",
        "last      2014-05-04 05:35:50\n",
        "top       2014-05-04 05:35:44\n",
        "freq                       13\n",
        "Name: created_at, dtype: object"
       ]
      }
     ],
     "prompt_number": 36
    },
    {
     "cell_type": "markdown",
     "metadata": {
      "slideshow": {
       "slide_type": "notes"
      }
     },
     "source": [
      "Not all that interesting though, since all of these tweets were collected within a couple seconds of each other."
     ]
    },
    {
     "cell_type": "markdown",
     "metadata": {
      "slideshow": {
       "slide_type": "slide"
      }
     },
     "source": [
      "Mongo allows us to access subfields directly."
     ]
    },
    {
     "cell_type": "code",
     "collapsed": false,
     "input": [
      "mentions_followers = list(db.tweets.find(fields=['entities.user_mentions', 'user.followers_count']))\n",
      "pd.DataFrame(mentions_followers).head()"
     ],
     "language": "python",
     "metadata": {
      "slideshow": {
       "slide_type": "-"
      }
     },
     "outputs": [
      {
       "html": [
        "<div style=\"max-height:1000px;max-width:1500px;overflow:auto;\">\n",
        "<table border=\"1\" class=\"dataframe\">\n",
        "  <thead>\n",
        "    <tr style=\"text-align: right;\">\n",
        "      <th></th>\n",
        "      <th>_id</th>\n",
        "      <th>entities</th>\n",
        "      <th>user</th>\n",
        "    </tr>\n",
        "  </thead>\n",
        "  <tbody>\n",
        "    <tr>\n",
        "      <th>0</th>\n",
        "      <td> 5365d29b0370cc069749c414</td>\n",
        "      <td>                            {u'user_mentions': []}</td>\n",
        "      <td>  {u'followers_count': 53}</td>\n",
        "    </tr>\n",
        "    <tr>\n",
        "      <th>1</th>\n",
        "      <td> 5365d29b0370cc069749c41f</td>\n",
        "      <td>                            {u'user_mentions': []}</td>\n",
        "      <td> {u'followers_count': 484}</td>\n",
        "    </tr>\n",
        "    <tr>\n",
        "      <th>2</th>\n",
        "      <td> 5365d29b0370cc069749c410</td>\n",
        "      <td> {u'user_mentions': [{u'indices': [3, 17], u'sc...</td>\n",
        "      <td> {u'followers_count': 522}</td>\n",
        "    </tr>\n",
        "    <tr>\n",
        "      <th>3</th>\n",
        "      <td> 5365d29b0370cc069749c411</td>\n",
        "      <td> {u'user_mentions': [{u'indices': [3, 14], u'sc...</td>\n",
        "      <td> {u'followers_count': 654}</td>\n",
        "    </tr>\n",
        "    <tr>\n",
        "      <th>4</th>\n",
        "      <td> 5365d29b0370cc069749c412</td>\n",
        "      <td> {u'user_mentions': [{u'indices': [3, 17], u'sc...</td>\n",
        "      <td> {u'followers_count': 320}</td>\n",
        "    </tr>\n",
        "  </tbody>\n",
        "</table>\n",
        "<p>5 rows \u00d7 3 columns</p>\n",
        "</div>"
       ],
       "metadata": {},
       "output_type": "pyout",
       "prompt_number": 37,
       "text": [
        "                        _id  \\\n",
        "0  5365d29b0370cc069749c414   \n",
        "1  5365d29b0370cc069749c41f   \n",
        "2  5365d29b0370cc069749c410   \n",
        "3  5365d29b0370cc069749c411   \n",
        "4  5365d29b0370cc069749c412   \n",
        "\n",
        "                                            entities  \\\n",
        "0                             {u'user_mentions': []}   \n",
        "1                             {u'user_mentions': []}   \n",
        "2  {u'user_mentions': [{u'indices': [3, 17], u'sc...   \n",
        "3  {u'user_mentions': [{u'indices': [3, 14], u'sc...   \n",
        "4  {u'user_mentions': [{u'indices': [3, 17], u'sc...   \n",
        "\n",
        "                        user  \n",
        "0   {u'followers_count': 53}  \n",
        "1  {u'followers_count': 484}  \n",
        "2  {u'followers_count': 522}  \n",
        "3  {u'followers_count': 654}  \n",
        "4  {u'followers_count': 320}  \n",
        "\n",
        "[5 rows x 3 columns]"
       ]
      }
     ],
     "prompt_number": 37
    },
    {
     "cell_type": "markdown",
     "metadata": {
      "slideshow": {
       "slide_type": "subslide"
      }
     },
     "source": [
      "Pandas doesn't know how to parse the sub-documents however, so we must tell it explicitly:"
     ]
    },
    {
     "cell_type": "code",
     "collapsed": false,
     "input": [
      "mentions_followers_df = pd.DataFrame({'user_mentions': len(tweet['entities']['user_mentions']), \n",
      "              'followers_count': tweet['user'].get('followers_count')} for tweet in mentions_followers)\n",
      "mentions_followers_df.head()"
     ],
     "language": "python",
     "metadata": {
      "slideshow": {
       "slide_type": "-"
      }
     },
     "outputs": [
      {
       "html": [
        "<div style=\"max-height:1000px;max-width:1500px;overflow:auto;\">\n",
        "<table border=\"1\" class=\"dataframe\">\n",
        "  <thead>\n",
        "    <tr style=\"text-align: right;\">\n",
        "      <th></th>\n",
        "      <th>followers_count</th>\n",
        "      <th>user_mentions</th>\n",
        "    </tr>\n",
        "  </thead>\n",
        "  <tbody>\n",
        "    <tr>\n",
        "      <th>0</th>\n",
        "      <td>  53</td>\n",
        "      <td> 0</td>\n",
        "    </tr>\n",
        "    <tr>\n",
        "      <th>1</th>\n",
        "      <td> 484</td>\n",
        "      <td> 0</td>\n",
        "    </tr>\n",
        "    <tr>\n",
        "      <th>2</th>\n",
        "      <td> 522</td>\n",
        "      <td> 1</td>\n",
        "    </tr>\n",
        "    <tr>\n",
        "      <th>3</th>\n",
        "      <td> 654</td>\n",
        "      <td> 1</td>\n",
        "    </tr>\n",
        "    <tr>\n",
        "      <th>4</th>\n",
        "      <td> 320</td>\n",
        "      <td> 1</td>\n",
        "    </tr>\n",
        "  </tbody>\n",
        "</table>\n",
        "<p>5 rows \u00d7 2 columns</p>\n",
        "</div>"
       ],
       "metadata": {},
       "output_type": "pyout",
       "prompt_number": 38,
       "text": [
        "   followers_count  user_mentions\n",
        "0               53              0\n",
        "1              484              0\n",
        "2              522              1\n",
        "3              654              1\n",
        "4              320              1\n",
        "\n",
        "[5 rows x 2 columns]"
       ]
      }
     ],
     "prompt_number": 38
    },
    {
     "cell_type": "code",
     "collapsed": false,
     "input": [
      "%matplotlib inline"
     ],
     "language": "python",
     "metadata": {},
     "outputs": [],
     "prompt_number": 39
    },
    {
     "cell_type": "markdown",
     "metadata": {
      "slideshow": {
       "slide_type": "slide"
      }
     },
     "source": [
      "Perhaps `user_mentions` and `followers_count` are correlated?"
     ]
    },
    {
     "cell_type": "code",
     "collapsed": false,
     "input": [
      "plt.scatter(mentions_followers_df.user_mentions, mentions_followers_df.followers_count)\n",
      "mentions_followers_df.corr()"
     ],
     "language": "python",
     "metadata": {
      "slideshow": {
       "slide_type": "-"
      }
     },
     "outputs": [
      {
       "html": [
        "<div style=\"max-height:1000px;max-width:1500px;overflow:auto;\">\n",
        "<table border=\"1\" class=\"dataframe\">\n",
        "  <thead>\n",
        "    <tr style=\"text-align: right;\">\n",
        "      <th></th>\n",
        "      <th>followers_count</th>\n",
        "      <th>user_mentions</th>\n",
        "    </tr>\n",
        "  </thead>\n",
        "  <tbody>\n",
        "    <tr>\n",
        "      <th>followers_count</th>\n",
        "      <td> 1.000000</td>\n",
        "      <td>-0.097835</td>\n",
        "    </tr>\n",
        "    <tr>\n",
        "      <th>user_mentions</th>\n",
        "      <td>-0.097835</td>\n",
        "      <td> 1.000000</td>\n",
        "    </tr>\n",
        "  </tbody>\n",
        "</table>\n",
        "<p>2 rows \u00d7 2 columns</p>\n",
        "</div>"
       ],
       "metadata": {},
       "output_type": "pyout",
       "prompt_number": 40,
       "text": [
        "                 followers_count  user_mentions\n",
        "followers_count         1.000000      -0.097835\n",
        "user_mentions          -0.097835       1.000000\n",
        "\n",
        "[2 rows x 2 columns]"
       ]
      },
      {
       "metadata": {},
       "output_type": "display_data",
       "png": "[encoded data removed]",
       "text": [
        "<matplotlib.figure.Figure at 0x108a26410>"
       ]
      }
     ],
     "prompt_number": 40
    },
    {
     "cell_type": "markdown",
     "metadata": {
      "slideshow": {
       "slide_type": "fragment"
      }
     },
     "source": [
      "Perhaps not."
     ]
    },
    {
     "cell_type": "markdown",
     "metadata": {
      "slideshow": {
       "slide_type": "slide"
      }
     },
     "source": [
      "Lab\n",
      "============\n",
      "1-2 Pairs\n",
      "------------"
     ]
    },
    {
     "cell_type": "markdown",
     "metadata": {
      "slideshow": {
       "slide_type": "notes"
      }
     },
     "source": [
      "Raise two fingers if you understand the material well.  \n",
      "Raise one finger if you understand this material OK.  \n",
      "Now, 1 find a 2 and sit next to them. While you work through this exercise, only 1's can type."
     ]
    },
    {
     "cell_type": "markdown",
     "metadata": {
      "slideshow": {
       "slide_type": "fragment"
      }
     },
     "source": [
      "The [Yahoo! Where On Earth ID](https://developer.yahoo.com/geo/geoplanet/) of Canada is 23424775.  \n",
      "Use it to find Twitter trends in Canada and compare it to US trends. What's the difference between them?  \n",
      "\n",
      "- Insert the last 100 tweets for all Canada-only trends into a `canada` collection.  \n",
      "- Insert the last 100 tweets for all US-only trends into a `us` collections.  \n",
      "- For this (small and not very representative) sample, which users have the highest `follower_count`?"
     ]
    },
    {
     "cell_type": "code",
     "collapsed": false,
     "input": [
      "CAN_WOE_ID = 23424775"
     ],
     "language": "python",
     "metadata": {},
     "outputs": [],
     "prompt_number": 41
    },
    {
     "cell_type": "code",
     "collapsed": false,
     "input": [
      "can_trends = twitter_api.trends.place(_id=CAN_WOE_ID)\n",
      "us_trends = twitter_api.trends.place(_id=US_WOE_ID)\n",
      "\n",
      "pprint(can_trends)\n"
     ],
     "language": "python",
     "metadata": {},
     "outputs": [
      {
       "output_type": "stream",
       "stream": "stdout",
       "text": [
        "[{u'as_of': u'2014-05-04T05:53:32Z',\n",
        "  u'created_at': u'2014-05-04T05:47:57Z',\n",
        "  u'locations': [{u'name': u'Canada', u'woeid': 23424775}],\n",
        "  u'trends': [{u'name': u'#MoneyMayweather',\n",
        "               u'promoted_content': None,\n",
        "               u'query': u'%23MoneyMayweather',\n",
        "               u'url': u'http://twitter.com/search?q=%23MoneyMayweather'},\n",
        "              {u'name': u'#Maidana',\n",
        "               u'promoted_content': None,\n",
        "               u'query': u'%23Maidana',\n",
        "               u'url': u'http://twitter.com/search?q=%23Maidana'},\n",
        "              {u'name': u'#LobCity',\n",
        "               u'promoted_content': None,\n",
        "               u'query': u'%23LobCity',\n",
        "               u'url': u'http://twitter.com/search?q=%23LobCity'},\n",
        "              {u'name': u'#TheMoneyTeam',\n",
        "               u'promoted_content': None,\n",
        "               u'query': u'%23TheMoneyTeam',\n",
        "               u'url': u'http://twitter.com/search?q=%23TheMoneyTeam'},\n",
        "              {u'name': u'Amir Khan',\n",
        "               u'promoted_content': None,\n",
        "               u'query': u'%22Amir+Khan%22',\n",
        "               u'url': u'http://twitter.com/search?q=%22Amir+Khan%22'},\n",
        "              {u'name': u'#TheMoment',\n",
        "               u'promoted_content': None,\n",
        "               u'query': u'%23TheMoment',\n",
        "               u'url': u'http://twitter.com/search?q=%23TheMoment'},\n",
        "              {u'name': u'Jordan Crawford',\n",
        "               u'promoted_content': None,\n",
        "               u'query': u'%22Jordan+Crawford%22',\n",
        "               u'url': u'http://twitter.com/search?q=%22Jordan+Crawford%22'},\n",
        "              {u'name': u'May the 4th',\n",
        "               u'promoted_content': None,\n",
        "               u'query': u'%22May+the+4th%22',\n",
        "               u'url': u'http://twitter.com/search?q=%22May+the+4th%22'},\n",
        "              {u'name': u'Draymond Green',\n",
        "               u'promoted_content': None,\n",
        "               u'query': u'%22Draymond+Green%22',\n",
        "               u'url': u'http://twitter.com/search?q=%22Draymond+Green%22'},\n",
        "              {u'name': u'Mark Jackson',\n",
        "               u'promoted_content': None,\n",
        "               u'query': u'%22Mark+Jackson%22',\n",
        "               u'url': u'http://twitter.com/search?q=%22Mark+Jackson%22'}]}]\n"
       ]
      }
     ],
     "prompt_number": 42
    },
    {
     "cell_type": "code",
     "collapsed": false,
     "input": [
      "pprint(us_trends)"
     ],
     "language": "python",
     "metadata": {},
     "outputs": [
      {
       "output_type": "stream",
       "stream": "stdout",
       "text": [
        "[{u'as_of': u'2014-05-04T05:53:32Z',\n",
        "  u'created_at': u'2014-05-04T05:47:57Z',\n",
        "  u'locations': [{u'name': u'United States', u'woeid': 23424977}],\n",
        "  u'trends': [{u'name': u'#MoneyMayweather',\n",
        "               u'promoted_content': None,\n",
        "               u'query': u'%23MoneyMayweather',\n",
        "               u'url': u'http://twitter.com/search?q=%23MoneyMayweather'},\n",
        "              {u'name': u'Marc Jackson',\n",
        "               u'promoted_content': None,\n",
        "               u'query': u'%22Marc+Jackson%22',\n",
        "               u'url': u'http://twitter.com/search?q=%22Marc+Jackson%22'},\n",
        "              {u'name': u'Happy Star Wars Day',\n",
        "               u'promoted_content': None,\n",
        "               u'query': u'%22Happy+Star+Wars+Day%22',\n",
        "               u'url': u'http://twitter.com/search?q=%22Happy+Star+Wars+Day%22'},\n",
        "              {u'name': u'Damn Golden State',\n",
        "               u'promoted_content': None,\n",
        "               u'query': u'%22Damn+Golden+State%22',\n",
        "               u'url': u'http://twitter.com/search?q=%22Damn+Golden+State%22'},\n",
        "              {u'name': u'Kylie and Justin',\n",
        "               u'promoted_content': None,\n",
        "               u'query': u'%22Kylie+and+Justin%22',\n",
        "               u'url': u'http://twitter.com/search?q=%22Kylie+and+Justin%22'},\n",
        "              {u'name': u'Blake and DeAndre',\n",
        "               u'promoted_content': None,\n",
        "               u'query': u'%22Blake+and+DeAndre%22',\n",
        "               u'url': u'http://twitter.com/search?q=%22Blake+and+DeAndre%22'},\n",
        "              {u'name': u'#TeamMayweather',\n",
        "               u'promoted_content': None,\n",
        "               u'query': u'%23TeamMayweather',\n",
        "               u'url': u'http://twitter.com/search?q=%23TeamMayweather'},\n",
        "              {u'name': u'#LobCity',\n",
        "               u'promoted_content': None,\n",
        "               u'query': u'%23LobCity',\n",
        "               u'url': u'http://twitter.com/search?q=%23LobCity'},\n",
        "              {u'name': u'#GSWvsLAC',\n",
        "               u'promoted_content': None,\n",
        "               u'query': u'%23GSWvsLAC',\n",
        "               u'url': u'http://twitter.com/search?q=%23GSWvsLAC'},\n",
        "              {u'name': u'#rematch',\n",
        "               u'promoted_content': None,\n",
        "               u'query': u'%23rematch',\n",
        "               u'url': u'http://twitter.com/search?q=%23rematch'}]}]\n"
       ]
      }
     ],
     "prompt_number": 43
    },
    {
     "cell_type": "code",
     "collapsed": false,
     "input": [
      "can_trends_set = set([trend['name'] for trends in can_trends\n",
      "                        for trend in trends['trends']])\n",
      "\n",
      "us_trends_set = set([trend['name'] for trends in us_trends\n",
      "                     for trend in trends['trends']]) \n",
      "\n",
      "can_only = can_trends_set.difference(us_trends_set)\n",
      "us_only = us_trends_set.difference(can_trends_set)"
     ],
     "language": "python",
     "metadata": {},
     "outputs": [],
     "prompt_number": 44
    },
    {
     "cell_type": "code",
     "collapsed": false,
     "input": [
      "print can_only\n",
      "print us_only"
     ],
     "language": "python",
     "metadata": {},
     "outputs": [
      {
       "output_type": "stream",
       "stream": "stdout",
       "text": [
        "set([u'#TheMoneyTeam', u'#Maidana', u'#TheMoment', u'Jordan Crawford', u'May the 4th', u'Amir Khan', u'Mark Jackson', u'Draymond Green'])\n",
        "set([u'#GSWvsLAC', u'Marc Jackson', u'#TeamMayweather', u'#rematch', u'Damn Golden State', u'Happy Star Wars Day', u'Blake and DeAndre', u'Kylie and Justin'])\n"
       ]
      }
     ],
     "prompt_number": 45
    },
    {
     "cell_type": "code",
     "collapsed": false,
     "input": [
      "can = can_trends[0]['trends'][0]['name']"
     ],
     "language": "python",
     "metadata": {},
     "outputs": [],
     "prompt_number": 46
    },
    {
     "cell_type": "code",
     "collapsed": false,
     "input": [
      "print can"
     ],
     "language": "python",
     "metadata": {},
     "outputs": [
      {
       "output_type": "stream",
       "stream": "stdout",
       "text": [
        "#MoneyMayweather\n"
       ]
      }
     ],
     "prompt_number": 47
    },
    {
     "cell_type": "code",
     "collapsed": false,
     "input": [
      "can_only_list = list(can_only)\n",
      "\n",
      "print can_only_list"
     ],
     "language": "python",
     "metadata": {},
     "outputs": [
      {
       "output_type": "stream",
       "stream": "stdout",
       "text": [
        "[u'#TheMoneyTeam', u'#Maidana', u'#TheMoment', u'Jordan Crawford', u'May the 4th', u'Amir Khan', u'Mark Jackson', u'Draymond Green']\n"
       ]
      }
     ],
     "prompt_number": 48
    },
    {
     "cell_type": "code",
     "collapsed": false,
     "input": [
      "count = 100\n",
      "\n",
      "for trend in can_only_list:\n",
      "        search_results = twitter_api.search.tweets(q=trend, count=count)\n",
      "        statuses = search_results['statuses']\n",
      "        db.can.insert(statuses)"
     ],
     "language": "python",
     "metadata": {},
     "outputs": [],
     "prompt_number": 49
    },
    {
     "cell_type": "code",
     "collapsed": false,
     "input": [
      "db.can.count()"
     ],
     "language": "python",
     "metadata": {},
     "outputs": [
      {
       "metadata": {},
       "output_type": "pyout",
       "prompt_number": 50,
       "text": [
        "797"
       ]
      }
     ],
     "prompt_number": 50
    },
    {
     "cell_type": "raw",
     "metadata": {},
     "source": [
      "print can_only_list"
     ]
    },
    {
     "cell_type": "code",
     "collapsed": false,
     "input": [
      "\n",
      "can = world_trends[0]['trends'][0]['name']\n",
      "\n",
      "count = 100\n",
      "\n",
      "# See https://dev.twitter.com/docs/api/1.1/get/search/tweets\n",
      "\n",
      "\n",
      "search_results = twitter_api.search.tweets(q=q, count=count)\n",
      "\n",
      "statuses = search_results['statuses']"
     ],
     "language": "python",
     "metadata": {},
     "outputs": [],
     "prompt_number": 51
    },
    {
     "cell_type": "code",
     "collapsed": false,
     "input": [
      "type(search_results)"
     ],
     "language": "python",
     "metadata": {},
     "outputs": [
      {
       "metadata": {},
       "output_type": "pyout",
       "prompt_number": 52,
       "text": [
        "twitter.api.TwitterDictResponse"
       ]
      }
     ],
     "prompt_number": 52
    },
    {
     "cell_type": "code",
     "collapsed": false,
     "input": [
      "if 'next_results' in search_results['search_metadata']:\n",
      "    next_results = search_results['search_metadata']['next_results']\n",
      "    kwargs = dict([ kv.split('=') for kv in next_results[1:].split(\"&\") ])\n",
      "    search_results = twitter_api.search.tweets(**kwargs)\n",
      "    statuses += search_results['statuses']\n",
      "\n",
      "len(statuses)"
     ],
     "language": "python",
     "metadata": {},
     "outputs": [
      {
       "metadata": {},
       "output_type": "pyout",
       "prompt_number": 53,
       "text": [
        "200"
       ]
      }
     ],
     "prompt_number": 53
    },
    {
     "cell_type": "code",
     "collapsed": false,
     "input": [
      "db.can.count()"
     ],
     "language": "python",
     "metadata": {},
     "outputs": [
      {
       "metadata": {},
       "output_type": "pyout",
       "prompt_number": 54,
       "text": [
        "797"
       ]
      }
     ],
     "prompt_number": 54
    },
    {
     "cell_type": "markdown",
     "metadata": {
      "slideshow": {
       "slide_type": "fragment"
      }
     },
     "source": [
      "Individually:\n",
      "------------\n",
      "Find tweets where `'retweet_count': {\"$gt\": 0}`.  \n",
      "What is their `count`?  \n",
      "Is there anything about them that stands out as retweetable?"
     ]
    },
    {
     "cell_type": "markdown",
     "metadata": {
      "slideshow": {
       "slide_type": "notes"
      }
     },
     "source": [
      "Further exercises:  \n",
      "\n",
      "* Twitter - _Mining-the-Social-Web-2nd-Edition_: [Chapter 1 - Mining Twitter](http://nbviewer.ipython.org/github/ptwobrussell/Mining-the-Social-Web-2nd-Edition/blob/master/ipynb/__Chapter%201%20-%20Mining%20Twitter%20%28Full-Text%20Sampler%29.ipynb)\n",
      "* Mongo - [Aggregation Framework](http://docs.mongodb.org/manual/aggregation/)"
     ]
    },
    {
     "cell_type": "markdown",
     "metadata": {
      "slideshow": {
       "slide_type": "slide"
      }
     },
     "source": [
      "Next week:\n",
      "==============\n",
      "Exploring Data\n",
      "--------------"
     ]
    }
   ],
   "metadata": {}
  }
 ]
}