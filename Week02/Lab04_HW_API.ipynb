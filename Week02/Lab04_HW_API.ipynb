{
 "metadata": {
  "celltoolbar": "Slideshow",
  "name": "",
  "signature": "sha256:4c53bf607169810c58a70759ec486b6748bc0556c98091a64298729839e0c856"
 },
 "nbformat": 3,
 "nbformat_minor": 0,
 "worksheets": [
  {
   "cells": [
    {
     "cell_type": "markdown",
     "metadata": {
      "slideshow": {
       "slide_type": "slide"
      }
     },
     "source": [
      "Lab\n",
      "===================\n",
      "Twitter & MongoDB\n",
      "-------------------\n",
      "Alessandro D. Gagliardi"
     ]
    },
    {
     "cell_type": "markdown",
     "metadata": {
      "slideshow": {
       "slide_type": "subslide"
      }
     },
     "source": [
      "Importing Libraries\n",
      "-------------------"
     ]
    },
    {
     "cell_type": "code",
     "collapsed": false,
     "input": [
      "# standard library:\n",
      "import os  \n",
      "\n",
      "from pprint import pprint\n",
      "\n",
      "# other modules:\n",
      "import matplotlib.pyplot as plt\n",
      "import pandas as pd\n",
      "import twitter\n",
      "import yaml\n",
      "\n",
      "from pymongo import MongoClient\n",
      "%matplotlib inline "
     ],
     "language": "python",
     "metadata": {
      "slideshow": {
       "slide_type": "-"
      }
     },
     "outputs": [],
     "prompt_number": 2
    },
    {
     "cell_type": "markdown",
     "metadata": {
      "slideshow": {
       "slide_type": "slide"
      }
     },
     "source": [
      "Twitter Trends\n",
      "=============="
     ]
    },
    {
     "cell_type": "heading",
     "level": 3,
     "metadata": {
      "slideshow": {
       "slide_type": "subslide"
      }
     },
     "source": [
      "Connect to Twitter:"
     ]
    },
    {
     "cell_type": "code",
     "collapsed": false,
     "input": [
      "credentials = yaml.load(open(os.path.expanduser('~/api_cred.yml')))\n",
      "\n",
      "auth = twitter.oauth.OAuth(credentials['ACCESS_TOKEN'], \n",
      "                           credentials['ACCESS_TOKEN_SECRET'],\n",
      "                           credentials['API_KEY'],\n",
      "                           credentials['API_SECRET'])\n",
      "\n",
      "twitter_api = twitter.Twitter(auth=auth)"
     ],
     "language": "python",
     "metadata": {
      "slideshow": {
       "slide_type": "-"
      }
     },
     "outputs": [],
     "prompt_number": 3
    },
    {
     "cell_type": "code",
     "collapsed": false,
     "input": [
      "# The Yahoo! Where On Earth ID for the entire world is 1.\n",
      "# See https://dev.twitter.com/docs/api/1.1/get/trends/place and\n",
      "# http://developer.yahoo.com/geo/geoplanet/\n",
      "\n",
      "WORLD_WOE_ID = 1\n",
      "US_WOE_ID = 23424977\n",
      "\n",
      "# Prefix ID with the underscore for query string parameterization.\n",
      "# Without the underscore, the twitter package appends the ID value\n",
      "# to the URL itself as a special case keyword argument.\n",
      "\n",
      "world_trends = twitter_api.trends.place(_id=WORLD_WOE_ID)\n",
      "us_trends = twitter_api.trends.place(_id=US_WOE_ID)\n",
      "\n",
      "pprint(world_trends)"
     ],
     "language": "python",
     "metadata": {
      "slideshow": {
       "slide_type": "slide"
      }
     },
     "outputs": [
      {
       "output_type": "stream",
       "stream": "stdout",
       "text": [
        "[{u'as_of': u'2014-05-04T22:11:38Z',\n",
        "  u'created_at': u'2014-05-04T22:07:29Z',\n",
        "  u'locations': [{u'name': u'Worldwide', u'woeid': 1}],\n",
        "  u'trends': [{u'name': u'#JKT48CYBER_ANJING',\n",
        "               u'promoted_content': None,\n",
        "               u'query': u'%23JKT48CYBER_ANJING',\n",
        "               u'url': u'http://twitter.com/search?q=%23JKT48CYBER_ANJING'},\n",
        "              {u'name': u'#VamosRiverHoyEsGanarOGanar',\n",
        "               u'promoted_content': None,\n",
        "               u'query': u'%23VamosRiverHoyEsGanarOGanar',\n",
        "               u'url': u'http://twitter.com/search?q=%23VamosRiverHoyEsGanarOGanar'},\n",
        "              {u'name': u'#TipicoAlDespertarme',\n",
        "               u'promoted_content': None,\n",
        "               u'query': u'%23TipicoAlDespertarme',\n",
        "               u'url': u'http://twitter.com/search?q=%23TipicoAlDespertarme'},\n",
        "              {u'name': u'#AppreciationforZaynMalik',\n",
        "               u'promoted_content': None,\n",
        "               u'query': u'%23AppreciationforZaynMalik',\n",
        "               u'url': u'http://twitter.com/search?q=%23AppreciationforZaynMalik'},\n",
        "              {u'name': u'#Durum\\u015euKi',\n",
        "               u'promoted_content': None,\n",
        "               u'query': u'%23Durum%C5%9EuKi',\n",
        "               u'url': u'http://twitter.com/search?q=%23Durum%C5%9EuKi'},\n",
        "              {u'name': u'Empato Gimnasia',\n",
        "               u'promoted_content': None,\n",
        "               u'query': u'%22Empato+Gimnasia%22',\n",
        "               u'url': u'http://twitter.com/search?q=%22Empato+Gimnasia%22'},\n",
        "              {u'name': u'Queremos Chamada Da Marina',\n",
        "               u'promoted_content': None,\n",
        "               u'query': u'%22Queremos+Chamada+Da+Marina%22',\n",
        "               u'url': u'http://twitter.com/search?q=%22Queremos+Chamada+Da+Marina%22'},\n",
        "              {u'name': u'TVD Cast Is The Best',\n",
        "               u'promoted_content': None,\n",
        "               u'query': u'%22TVD+Cast+Is+The+Best%22',\n",
        "               u'url': u'http://twitter.com/search?q=%22TVD+Cast+Is+The+Best%22'},\n",
        "              {u'name': u'JB Holmes',\n",
        "               u'promoted_content': None,\n",
        "               u'query': u'%22JB+Holmes%22',\n",
        "               u'url': u'http://twitter.com/search?q=%22JB+Holmes%22'},\n",
        "              {u'name': u'War of the Worlds',\n",
        "               u'promoted_content': None,\n",
        "               u'query': u'%22War+of+the+Worlds%22',\n",
        "               u'url': u'http://twitter.com/search?q=%22War+of+the+Worlds%22'}]}]\n"
       ]
      }
     ],
     "prompt_number": 4
    },
    {
     "cell_type": "code",
     "collapsed": false,
     "input": [
      "pprint(us_trends)"
     ],
     "language": "python",
     "metadata": {
      "slideshow": {
       "slide_type": "subslide"
      }
     },
     "outputs": [
      {
       "output_type": "stream",
       "stream": "stdout",
       "text": [
        "[{u'as_of': u'2014-05-04T22:11:39Z',\n",
        "  u'created_at': u'2014-05-04T22:07:29Z',\n",
        "  u'locations': [{u'name': u'United States', u'woeid': 23424977}],\n",
        "  u'trends': [{u'name': u'#harrystylesgivesmechestpains',\n",
        "               u'promoted_content': None,\n",
        "               u'query': u'%23harrystylesgivesmechestpains',\n",
        "               u'url': u'http://twitter.com/search?q=%23harrystylesgivesmechestpains'},\n",
        "              {u'name': u'#AppreciationforZaynMalik',\n",
        "               u'promoted_content': None,\n",
        "               u'query': u'%23AppreciationforZaynMalik',\n",
        "               u'url': u'http://twitter.com/search?q=%23AppreciationforZaynMalik'},\n",
        "              {u'name': u'#SamWoolfOnEllen',\n",
        "               u'promoted_content': None,\n",
        "               u'query': u'%23SamWoolfOnEllen',\n",
        "               u'url': u'http://twitter.com/search?q=%23SamWoolfOnEllen'},\n",
        "              {u'name': u'#HappyStarWarsDay',\n",
        "               u'promoted_content': None,\n",
        "               u'query': u'%23HappyStarWarsDay',\n",
        "               u'url': u'http://twitter.com/search?q=%23HappyStarWarsDay'},\n",
        "              {u'name': u'#BlessLiamforMakingAnInstagram',\n",
        "               u'promoted_content': None,\n",
        "               u'query': u'%23BlessLiamforMakingAnInstagram',\n",
        "               u'url': u'http://twitter.com/search?q=%23BlessLiamforMakingAnInstagram'},\n",
        "              {u'name': u'JB Holmes',\n",
        "               u'promoted_content': None,\n",
        "               u'query': u'%22JB+Holmes%22',\n",
        "               u'url': u'http://twitter.com/search?q=%22JB+Holmes%22'},\n",
        "              {u'name': u'Jay Bruce',\n",
        "               u'promoted_content': None,\n",
        "               u'query': u'%22Jay+Bruce%22',\n",
        "               u'url': u'http://twitter.com/search?q=%22Jay+Bruce%22'},\n",
        "              {u'name': u'The Waterboy',\n",
        "               u'promoted_content': None,\n",
        "               u'query': u'%22The+Waterboy%22',\n",
        "               u'url': u'http://twitter.com/search?q=%22The+Waterboy%22'},\n",
        "              {u'name': u'Pearl Harbor',\n",
        "               u'promoted_content': None,\n",
        "               u'query': u'%22Pearl+Harbor%22',\n",
        "               u'url': u'http://twitter.com/search?q=%22Pearl+Harbor%22'},\n",
        "              {u'name': u'How Girls Be After A Argument',\n",
        "               u'promoted_content': None,\n",
        "               u'query': u'%22How+Girls+Be+After+A+Argument%22',\n",
        "               u'url': u'http://twitter.com/search?q=%22How+Girls+Be+After+A+Argument%22'}]}]\n"
       ]
      }
     ],
     "prompt_number": 5
    },
    {
     "cell_type": "heading",
     "level": 3,
     "metadata": {
      "slideshow": {
       "slide_type": "subslide"
      }
     },
     "source": [
      "Do any of these trends intersect?"
     ]
    },
    {
     "cell_type": "code",
     "collapsed": false,
     "input": [
      "world_trends_set = set([trend['name'] for trends in world_trends\n",
      "                        for trend in trends['trends']])\n",
      "\n",
      "us_trends_set = set([trend['name'] for trends in us_trends\n",
      "                     for trend in trends['trends']]) \n",
      "\n",
      "world_trends_set.intersection(us_trends_set)"
     ],
     "language": "python",
     "metadata": {
      "slideshow": {
       "slide_type": "fragment"
      }
     },
     "outputs": [
      {
       "metadata": {},
       "output_type": "pyout",
       "prompt_number": 6,
       "text": [
        "{u'#AppreciationforZaynMalik', u'JB Holmes'}"
       ]
      }
     ],
     "prompt_number": 6
    },
    {
     "cell_type": "markdown",
     "metadata": {
      "slideshow": {
       "slide_type": "slide"
      }
     },
     "source": [
      "Twitter Statuses\n",
      "================"
     ]
    },
    {
     "cell_type": "code",
     "collapsed": false,
     "input": [
      "q = world_trends[0]['trends'][0]['name']\n",
      "\n",
      "count = 100\n",
      "\n",
      "# See https://dev.twitter.com/docs/api/1.1/get/search/tweets\n",
      "\n",
      "search_results = twitter_api.search.tweets(q=q, count=count)\n",
      "\n",
      "statuses = search_results['statuses']"
     ],
     "language": "python",
     "metadata": {
      "slideshow": {
       "slide_type": "fragment"
      }
     },
     "outputs": [],
     "prompt_number": 7
    },
    {
     "cell_type": "code",
     "collapsed": false,
     "input": [
      "len(statuses)"
     ],
     "language": "python",
     "metadata": {
      "slideshow": {
       "slide_type": "fragment"
      }
     },
     "outputs": [
      {
       "metadata": {},
       "output_type": "pyout",
       "prompt_number": 8,
       "text": [
        "100"
       ]
      }
     ],
     "prompt_number": 8
    },
    {
     "cell_type": "heading",
     "level": 3,
     "metadata": {
      "slideshow": {
       "slide_type": "subslide"
      }
     },
     "source": [
      "More?"
     ]
    },
    {
     "cell_type": "code",
     "collapsed": false,
     "input": [
      "search_results['search_metadata'].get('next_results')"
     ],
     "language": "python",
     "metadata": {
      "slideshow": {
       "slide_type": "fragment"
      }
     },
     "outputs": [
      {
       "metadata": {},
       "output_type": "pyout",
       "prompt_number": 9,
       "text": [
        "u'?max_id=463078521183952895&q=%23JKT48CYBER_ANJING&count=100&include_entities=1'"
       ]
      }
     ],
     "prompt_number": 9
    },
    {
     "cell_type": "code",
     "collapsed": false,
     "input": [
      "if 'next_results' in search_results['search_metadata']:\n",
      "    next_results = search_results['search_metadata']['next_results']\n",
      "    kwargs = dict([ kv.split('=') for kv in next_results[1:].split(\"&\") ])\n",
      "    search_results = twitter_api.search.tweets(**kwargs)\n",
      "    statuses += search_results['statuses']\n",
      "\n",
      "len(statuses)"
     ],
     "language": "python",
     "metadata": {
      "slideshow": {
       "slide_type": "fragment"
      }
     },
     "outputs": [
      {
       "metadata": {},
       "output_type": "pyout",
       "prompt_number": 10,
       "text": [
        "200"
       ]
      }
     ],
     "prompt_number": 10
    },
    {
     "cell_type": "code",
     "collapsed": false,
     "input": [],
     "language": "python",
     "metadata": {},
     "outputs": []
    },
    {
     "cell_type": "markdown",
     "metadata": {
      "slideshow": {
       "slide_type": "slide"
      }
     },
     "source": [
      "Mongo\n",
      "====="
     ]
    },
    {
     "cell_type": "markdown",
     "metadata": {
      "slideshow": {
       "slide_type": "subslide"
      }
     },
     "source": [
      "from the command line:\n",
      "```bash\n",
      "$ mkdir -p data/db\n",
      "$ mongod --dbpath data/db\n",
      "```"
     ]
    },
    {
     "cell_type": "heading",
     "level": 3,
     "metadata": {
      "slideshow": {
       "slide_type": "slide"
      }
     },
     "source": [
      "Connect to our Mongo database management server (DBMS):"
     ]
    },
    {
     "cell_type": "code",
     "collapsed": false,
     "input": [
      "c = MongoClient()"
     ],
     "language": "python",
     "metadata": {
      "slideshow": {
       "slide_type": "fragment"
      }
     },
     "outputs": [],
     "prompt_number": 13
    },
    {
     "cell_type": "heading",
     "level": 4,
     "metadata": {
      "slideshow": {
       "slide_type": "fragment"
      }
     },
     "source": [
      "Create a database called `twitter`:"
     ]
    },
    {
     "cell_type": "code",
     "collapsed": false,
     "input": [
      "db = c.twitter"
     ],
     "language": "python",
     "metadata": {
      "slideshow": {
       "slide_type": "fragment"
      }
     },
     "outputs": [],
     "prompt_number": 14
    },
    {
     "cell_type": "markdown",
     "metadata": {
      "slideshow": {
       "slide_type": "notes"
      }
     },
     "source": [
      "##### Yes, it's that easy."
     ]
    },
    {
     "cell_type": "heading",
     "level": 4,
     "metadata": {
      "slideshow": {
       "slide_type": "slide"
      }
     },
     "source": [
      "Insert the results we pulled from Twitter and store them as a document in a collection named `tweets`:"
     ]
    },
    {
     "cell_type": "code",
     "collapsed": false,
     "input": [
      "statuses_ids = db.tweets.insert(statuses)\n",
      "statuses_ids[:5]"
     ],
     "language": "python",
     "metadata": {
      "slideshow": {
       "slide_type": "fragment"
      }
     },
     "outputs": [
      {
       "metadata": {},
       "output_type": "pyout",
       "prompt_number": 15,
       "text": [
        "[ObjectId('5366bb9e0370cc08ab28aa67'),\n",
        " ObjectId('5366bb9e0370cc08ab28aa68'),\n",
        " ObjectId('5366bb9e0370cc08ab28aa69'),\n",
        " ObjectId('5366bb9e0370cc08ab28aa6a'),\n",
        " ObjectId('5366bb9e0370cc08ab28aa6b')]"
       ]
      }
     ],
     "prompt_number": 15
    },
    {
     "cell_type": "heading",
     "level": 3,
     "metadata": {
      "slideshow": {
       "slide_type": "slide"
      }
     },
     "source": [
      "`ObjectId`s"
     ]
    },
    {
     "cell_type": "markdown",
     "metadata": {
      "slideshow": {
       "slide_type": "fragment"
      }
     },
     "source": [
      "**ObjectId** is a 12-byte **BSON** type, constructed using:\n",
      "\n",
      "-    a 4-byte value representing the seconds since the Unix epoch,\n",
      "-    a 3-byte machine identifier,\n",
      "-    a 2-byte process id, and\n",
      "-    a 3-byte counter, starting with a random value.\n",
      "\n",
      "In MongoDB, documents stored in a collection require a unique `_id` field that acts as a **primary key**. Because ObjectIds are small, most likely unique, and fast to generate, MongoDB uses ObjectIds as the default value for the `_id` field if the `_id` field is not specified. \n",
      "\n",
      "<!--small><i>from http://docs.mongodb.org/manual/reference/object-id/</i></small-->"
     ]
    },
    {
     "cell_type": "markdown",
     "metadata": {
      "slideshow": {
       "slide_type": "notes"
      }
     },
     "source": [
      "Using ObjectIds for the `_id` field provides the following additional benefits:\n",
      "\n",
      "- you can access the insertion time of the ObjectId, using the `.generation_time` property in pymongo. \n",
      "- sorting on an `_id` field that stores ObjectId values is roughly equivalent to sorting by insertion time."
     ]
    },
    {
     "cell_type": "heading",
     "level": 3,
     "metadata": {
      "slideshow": {
       "slide_type": "slide"
      }
     },
     "source": [
      "Test the contents of our database:"
     ]
    },
    {
     "cell_type": "code",
     "collapsed": false,
     "input": [
      "c.database_names()"
     ],
     "language": "python",
     "metadata": {
      "slideshow": {
       "slide_type": "fragment"
      }
     },
     "outputs": [
      {
       "metadata": {},
       "output_type": "pyout",
       "prompt_number": 16,
       "text": [
        "[u'local', u'twitter', u'admin']"
       ]
      }
     ],
     "prompt_number": 16
    },
    {
     "cell_type": "code",
     "collapsed": false,
     "input": [
      "db = c.twitter\n",
      "db.collection_names()"
     ],
     "language": "python",
     "metadata": {
      "slideshow": {
       "slide_type": "fragment"
      }
     },
     "outputs": [
      {
       "metadata": {},
       "output_type": "pyout",
       "prompt_number": 17,
       "text": [
        "[u'tweets', u'system.indexes', u'can']"
       ]
      }
     ],
     "prompt_number": 17
    },
    {
     "cell_type": "code",
     "collapsed": false,
     "input": [
      "db.tweets.find_one()"
     ],
     "language": "python",
     "metadata": {
      "slideshow": {
       "slide_type": "fragment"
      }
     },
     "outputs": [
      {
       "metadata": {},
       "output_type": "pyout",
       "prompt_number": 18,
       "text": [
        "{u'_id': ObjectId('5365d29b0370cc069749c414'),\n",
        " u'contributors': None,\n",
        " u'coordinates': None,\n",
        " u'created_at': u'Sun May 04 05:35:50 +0000 2014',\n",
        " u'entities': {u'hashtags': [],\n",
        "  u'symbols': [],\n",
        "  u'urls': [{u'display_url': u'youtu.be/rXCbSIKB9mI',\n",
        "    u'expanded_url': u'http://youtu.be/rXCbSIKB9mI',\n",
        "    u'indices': [41, 63],\n",
        "    u'url': u'http://t.co/mMqrtcjvCX'}],\n",
        "  u'user_mentions': []},\n",
        " u'favorite_count': 0,\n",
        " u'favorited': False,\n",
        " u'geo': None,\n",
        " u'id': 462827922194051072L,\n",
        " u'id_str': u'462827922194051072',\n",
        " u'in_reply_to_screen_name': None,\n",
        " u'in_reply_to_status_id': None,\n",
        " u'in_reply_to_status_id_str': None,\n",
        " u'in_reply_to_user_id': None,\n",
        " u'in_reply_to_user_id_str': None,\n",
        " u'lang': u'es',\n",
        " u'metadata': {u'iso_language_code': u'es', u'result_type': u'recent'},\n",
        " u'place': None,\n",
        " u'possibly_sensitive': False,\n",
        " u'retweet_count': 0,\n",
        " u'retweeted': False,\n",
        " u'source': u'<a href=\"http://twitter.com/tweetbutton\" rel=\"nofollow\">Tweet Button</a>',\n",
        " u'text': u'Grande Chino Los Pericos ~ Sin Cadenas : http://t.co/mMqrtcjvCX',\n",
        " u'truncated': False,\n",
        " u'user': {u'contributors_enabled': False,\n",
        "  u'created_at': u'Thu May 06 06:33:32 +0000 2010',\n",
        "  u'default_profile': False,\n",
        "  u'default_profile_image': False,\n",
        "  u'description': u'X',\n",
        "  u'entities': {u'description': {u'urls': []},\n",
        "   u'url': {u'urls': [{u'display_url': u'facebook.com/Marc0LuXMaTT13\\u2026',\n",
        "      u'expanded_url': u'https://www.facebook.com/Marc0LuXMaTT13?ref=tn_tnmn',\n",
        "      u'indices': [0, 23],\n",
        "      u'url': u'https://t.co/VzIqlqYxo1'}]}},\n",
        "  u'favourites_count': 2205,\n",
        "  u'follow_request_sent': False,\n",
        "  u'followers_count': 53,\n",
        "  u'following': False,\n",
        "  u'friends_count': 370,\n",
        "  u'geo_enabled': True,\n",
        "  u'id': 140716576,\n",
        "  u'id_str': u'140716576',\n",
        "  u'is_translation_enabled': False,\n",
        "  u'is_translator': False,\n",
        "  u'lang': u'es',\n",
        "  u'listed_count': 2,\n",
        "  u'location': u'San Luis ',\n",
        "  u'name': u'Mario CasaZZa MaTTus',\n",
        "  u'notifications': False,\n",
        "  u'profile_background_color': u'131516',\n",
        "  u'profile_background_image_url': u'http://pbs.twimg.com/profile_background_images/378800000105481993/322781868530d86cbc043c73f9a6f55f.jpeg',\n",
        "  u'profile_background_image_url_https': u'https://pbs.twimg.com/profile_background_images/378800000105481993/322781868530d86cbc043c73f9a6f55f.jpeg',\n",
        "  u'profile_background_tile': True,\n",
        "  u'profile_banner_url': u'https://pbs.twimg.com/profile_banners/140716576/1392275044',\n",
        "  u'profile_image_url': u'http://pbs.twimg.com/profile_images/462248438176808960/7OVq9sAd_normal.jpeg',\n",
        "  u'profile_image_url_https': u'https://pbs.twimg.com/profile_images/462248438176808960/7OVq9sAd_normal.jpeg',\n",
        "  u'profile_link_color': u'009999',\n",
        "  u'profile_sidebar_border_color': u'000000',\n",
        "  u'profile_sidebar_fill_color': u'EFEFEF',\n",
        "  u'profile_text_color': u'333333',\n",
        "  u'profile_use_background_image': True,\n",
        "  u'protected': False,\n",
        "  u'screen_name': u'Marc0_013',\n",
        "  u'statuses_count': 26053,\n",
        "  u'time_zone': u'Buenos Aires',\n",
        "  u'url': u'https://t.co/VzIqlqYxo1',\n",
        "  u'utc_offset': -10800,\n",
        "  u'verified': False}}"
       ]
      }
     ],
     "prompt_number": 18
    },
    {
     "cell_type": "markdown",
     "metadata": {
      "slideshow": {
       "slide_type": "notes"
      }
     },
     "source": [
      "Notice the `_id` included in the document along with the values we already saw before."
     ]
    },
    {
     "cell_type": "markdown",
     "metadata": {
      "slideshow": {
       "slide_type": "slide"
      }
     },
     "source": [
      "Now that we have our data in MongoDB, we can use some of it's search functionality. For example:"
     ]
    },
    {
     "cell_type": "code",
     "collapsed": false,
     "input": [
      "popular_tweets = db.tweets.find({'retweet_count': {\"$gte\": 3}})\n",
      "popular_tweets.count()"
     ],
     "language": "python",
     "metadata": {
      "slideshow": {
       "slide_type": "fragment"
      }
     },
     "outputs": [
      {
       "metadata": {},
       "output_type": "pyout",
       "prompt_number": 19,
       "text": [
        "39"
       ]
      }
     ],
     "prompt_number": 19
    },
    {
     "cell_type": "markdown",
     "metadata": {
      "slideshow": {
       "slide_type": "slide"
      }
     },
     "source": [
      "Making Sense with Pandas\n",
      "========================"
     ]
    },
    {
     "cell_type": "code",
     "collapsed": false,
     "input": [
      "df = pd.DataFrame(list(db.tweets.find(fields=['created_at', 'retweet_count', 'favorite_count'])))\n",
      "df.head()"
     ],
     "language": "python",
     "metadata": {
      "slideshow": {
       "slide_type": "slide"
      }
     },
     "outputs": [
      {
       "html": [
        "<div style=\"max-height:1000px;max-width:1500px;overflow:auto;\">\n",
        "<table border=\"1\" class=\"dataframe\">\n",
        "  <thead>\n",
        "    <tr style=\"text-align: right;\">\n",
        "      <th></th>\n",
        "      <th>_id</th>\n",
        "      <th>created_at</th>\n",
        "      <th>favorite_count</th>\n",
        "      <th>retweet_count</th>\n",
        "    </tr>\n",
        "  </thead>\n",
        "  <tbody>\n",
        "    <tr>\n",
        "      <th>0</th>\n",
        "      <td> 5365d29b0370cc069749c414</td>\n",
        "      <td> Sun May 04 05:35:50 +0000 2014</td>\n",
        "      <td> 0</td>\n",
        "      <td>   0</td>\n",
        "    </tr>\n",
        "    <tr>\n",
        "      <th>1</th>\n",
        "      <td> 5365d29b0370cc069749c41f</td>\n",
        "      <td> Sun May 04 05:35:48 +0000 2014</td>\n",
        "      <td> 0</td>\n",
        "      <td>   0</td>\n",
        "    </tr>\n",
        "    <tr>\n",
        "      <th>2</th>\n",
        "      <td> 5365d29b0370cc069749c410</td>\n",
        "      <td> Sun May 04 05:35:50 +0000 2014</td>\n",
        "      <td> 0</td>\n",
        "      <td>   7</td>\n",
        "    </tr>\n",
        "    <tr>\n",
        "      <th>3</th>\n",
        "      <td> 5365d29b0370cc069749c411</td>\n",
        "      <td> Sun May 04 05:35:50 +0000 2014</td>\n",
        "      <td> 0</td>\n",
        "      <td>   1</td>\n",
        "    </tr>\n",
        "    <tr>\n",
        "      <th>4</th>\n",
        "      <td> 5365d29b0370cc069749c412</td>\n",
        "      <td> Sun May 04 05:35:50 +0000 2014</td>\n",
        "      <td> 0</td>\n",
        "      <td> 128</td>\n",
        "    </tr>\n",
        "  </tbody>\n",
        "</table>\n",
        "<p>5 rows \u00d7 4 columns</p>\n",
        "</div>"
       ],
       "metadata": {},
       "output_type": "pyout",
       "prompt_number": 20,
       "text": [
        "                        _id                      created_at  favorite_count  \\\n",
        "0  5365d29b0370cc069749c414  Sun May 04 05:35:50 +0000 2014               0   \n",
        "1  5365d29b0370cc069749c41f  Sun May 04 05:35:48 +0000 2014               0   \n",
        "2  5365d29b0370cc069749c410  Sun May 04 05:35:50 +0000 2014               0   \n",
        "3  5365d29b0370cc069749c411  Sun May 04 05:35:50 +0000 2014               0   \n",
        "4  5365d29b0370cc069749c412  Sun May 04 05:35:50 +0000 2014               0   \n",
        "\n",
        "   retweet_count  \n",
        "0              0  \n",
        "1              0  \n",
        "2              7  \n",
        "3              1  \n",
        "4            128  \n",
        "\n",
        "[5 rows x 4 columns]"
       ]
      }
     ],
     "prompt_number": 20
    },
    {
     "cell_type": "code",
     "collapsed": false,
     "input": [
      "retweet_favorites = pd.DataFrame(list(db.tweets.find(fields=['created_at','retweet_count','favorite_count'])))\n",
      "retweet_favorites.head()"
     ],
     "language": "python",
     "metadata": {
      "slideshow": {
       "slide_type": "subslide"
      }
     },
     "outputs": [
      {
       "html": [
        "<div style=\"max-height:1000px;max-width:1500px;overflow:auto;\">\n",
        "<table border=\"1\" class=\"dataframe\">\n",
        "  <thead>\n",
        "    <tr style=\"text-align: right;\">\n",
        "      <th></th>\n",
        "      <th>_id</th>\n",
        "      <th>created_at</th>\n",
        "      <th>favorite_count</th>\n",
        "      <th>retweet_count</th>\n",
        "    </tr>\n",
        "  </thead>\n",
        "  <tbody>\n",
        "    <tr>\n",
        "      <th>0</th>\n",
        "      <td> 5365d29b0370cc069749c414</td>\n",
        "      <td> Sun May 04 05:35:50 +0000 2014</td>\n",
        "      <td> 0</td>\n",
        "      <td>   0</td>\n",
        "    </tr>\n",
        "    <tr>\n",
        "      <th>1</th>\n",
        "      <td> 5365d29b0370cc069749c41f</td>\n",
        "      <td> Sun May 04 05:35:48 +0000 2014</td>\n",
        "      <td> 0</td>\n",
        "      <td>   0</td>\n",
        "    </tr>\n",
        "    <tr>\n",
        "      <th>2</th>\n",
        "      <td> 5365d29b0370cc069749c410</td>\n",
        "      <td> Sun May 04 05:35:50 +0000 2014</td>\n",
        "      <td> 0</td>\n",
        "      <td>   7</td>\n",
        "    </tr>\n",
        "    <tr>\n",
        "      <th>3</th>\n",
        "      <td> 5365d29b0370cc069749c411</td>\n",
        "      <td> Sun May 04 05:35:50 +0000 2014</td>\n",
        "      <td> 0</td>\n",
        "      <td>   1</td>\n",
        "    </tr>\n",
        "    <tr>\n",
        "      <th>4</th>\n",
        "      <td> 5365d29b0370cc069749c412</td>\n",
        "      <td> Sun May 04 05:35:50 +0000 2014</td>\n",
        "      <td> 0</td>\n",
        "      <td> 128</td>\n",
        "    </tr>\n",
        "  </tbody>\n",
        "</table>\n",
        "<p>5 rows \u00d7 4 columns</p>\n",
        "</div>"
       ],
       "metadata": {},
       "output_type": "pyout",
       "prompt_number": 21,
       "text": [
        "                        _id                      created_at  favorite_count  \\\n",
        "0  5365d29b0370cc069749c414  Sun May 04 05:35:50 +0000 2014               0   \n",
        "1  5365d29b0370cc069749c41f  Sun May 04 05:35:48 +0000 2014               0   \n",
        "2  5365d29b0370cc069749c410  Sun May 04 05:35:50 +0000 2014               0   \n",
        "3  5365d29b0370cc069749c411  Sun May 04 05:35:50 +0000 2014               0   \n",
        "4  5365d29b0370cc069749c412  Sun May 04 05:35:50 +0000 2014               0   \n",
        "\n",
        "   retweet_count  \n",
        "0              0  \n",
        "1              0  \n",
        "2              7  \n",
        "3              1  \n",
        "4            128  \n",
        "\n",
        "[5 rows x 4 columns]"
       ]
      }
     ],
     "prompt_number": 21
    },
    {
     "cell_type": "markdown",
     "metadata": {
      "slideshow": {
       "slide_type": "slide"
      }
     },
     "source": [
      "`.describe()` is a useful method to get the gist of our data."
     ]
    },
    {
     "cell_type": "code",
     "collapsed": false,
     "input": [
      "retweet_favorites.describe()"
     ],
     "language": "python",
     "metadata": {
      "slideshow": {
       "slide_type": "-"
      }
     },
     "outputs": [
      {
       "html": [
        "<div style=\"max-height:1000px;max-width:1500px;overflow:auto;\">\n",
        "<table border=\"1\" class=\"dataframe\">\n",
        "  <thead>\n",
        "    <tr style=\"text-align: right;\">\n",
        "      <th></th>\n",
        "      <th>favorite_count</th>\n",
        "      <th>retweet_count</th>\n",
        "    </tr>\n",
        "  </thead>\n",
        "  <tbody>\n",
        "    <tr>\n",
        "      <th>count</th>\n",
        "      <td> 299.000000</td>\n",
        "      <td>  299.000000</td>\n",
        "    </tr>\n",
        "    <tr>\n",
        "      <th>mean</th>\n",
        "      <td>   0.003344</td>\n",
        "      <td>   13.046823</td>\n",
        "    </tr>\n",
        "    <tr>\n",
        "      <th>std</th>\n",
        "      <td>   0.057831</td>\n",
        "      <td>   71.559084</td>\n",
        "    </tr>\n",
        "    <tr>\n",
        "      <th>min</th>\n",
        "      <td>   0.000000</td>\n",
        "      <td>    0.000000</td>\n",
        "    </tr>\n",
        "    <tr>\n",
        "      <th>25%</th>\n",
        "      <td>   0.000000</td>\n",
        "      <td>    0.000000</td>\n",
        "    </tr>\n",
        "    <tr>\n",
        "      <th>50%</th>\n",
        "      <td>   0.000000</td>\n",
        "      <td>    0.000000</td>\n",
        "    </tr>\n",
        "    <tr>\n",
        "      <th>75%</th>\n",
        "      <td>   0.000000</td>\n",
        "      <td>    0.000000</td>\n",
        "    </tr>\n",
        "    <tr>\n",
        "      <th>max</th>\n",
        "      <td>   1.000000</td>\n",
        "      <td> 1078.000000</td>\n",
        "    </tr>\n",
        "  </tbody>\n",
        "</table>\n",
        "<p>8 rows \u00d7 2 columns</p>\n",
        "</div>"
       ],
       "metadata": {},
       "output_type": "pyout",
       "prompt_number": 22,
       "text": [
        "       favorite_count  retweet_count\n",
        "count      299.000000     299.000000\n",
        "mean         0.003344      13.046823\n",
        "std          0.057831      71.559084\n",
        "min          0.000000       0.000000\n",
        "25%          0.000000       0.000000\n",
        "50%          0.000000       0.000000\n",
        "75%          0.000000       0.000000\n",
        "max          1.000000    1078.000000\n",
        "\n",
        "[8 rows x 2 columns]"
       ]
      }
     ],
     "prompt_number": 22
    },
    {
     "cell_type": "markdown",
     "metadata": {
      "slideshow": {
       "slide_type": "subslide"
      }
     },
     "source": [
      "However, when applied to a DataFrame, it only describes numeric columns."
     ]
    },
    {
     "cell_type": "code",
     "collapsed": false,
     "input": [
      "retweet_favorites.dtypes"
     ],
     "language": "python",
     "metadata": {
      "slideshow": {
       "slide_type": "-"
      }
     },
     "outputs": [
      {
       "metadata": {},
       "output_type": "pyout",
       "prompt_number": 23,
       "text": [
        "_id               object\n",
        "created_at        object\n",
        "favorite_count     int64\n",
        "retweet_count      int64\n",
        "dtype: object"
       ]
      }
     ],
     "prompt_number": 23
    },
    {
     "cell_type": "markdown",
     "metadata": {
      "slideshow": {
       "slide_type": "subslide"
      }
     },
     "source": [
      "`.describe()` can be called on individual columns (i.e. `Series`), even if they are not numeric."
     ]
    },
    {
     "cell_type": "code",
     "collapsed": false,
     "input": [
      "retweet_favorites.created_at.describe()"
     ],
     "language": "python",
     "metadata": {
      "slideshow": {
       "slide_type": "-"
      }
     },
     "outputs": [
      {
       "metadata": {},
       "output_type": "pyout",
       "prompt_number": 24,
       "text": [
        "count                                299\n",
        "unique                                47\n",
        "top       Sun May 04 05:35:44 +0000 2014\n",
        "freq                                  13\n",
        "Name: created_at, dtype: object"
       ]
      }
     ],
     "prompt_number": 24
    },
    {
     "cell_type": "markdown",
     "metadata": {
      "slideshow": {
       "slide_type": "fragment"
      }
     },
     "source": [
      "However, in this case `created_at` is being treated as a string, which is not very helpful. We can fix that with `pandas.to_datetime`:"
     ]
    },
    {
     "cell_type": "code",
     "collapsed": false,
     "input": [
      "retweet_favorites.created_at.map(pd.to_datetime).describe()"
     ],
     "language": "python",
     "metadata": {
      "slideshow": {
       "slide_type": "fragment"
      }
     },
     "outputs": [
      {
       "metadata": {},
       "output_type": "pyout",
       "prompt_number": 25,
       "text": [
        "count                     299\n",
        "unique                     47\n",
        "first     2014-05-04 05:35:39\n",
        "last      2014-05-04 22:11:54\n",
        "top       2014-05-04 05:35:44\n",
        "freq                       13\n",
        "Name: created_at, dtype: object"
       ]
      }
     ],
     "prompt_number": 25
    },
    {
     "cell_type": "markdown",
     "metadata": {
      "slideshow": {
       "slide_type": "notes"
      }
     },
     "source": [
      "Not all that interesting though, since all of these tweets were collected within a couple seconds of each other."
     ]
    },
    {
     "cell_type": "markdown",
     "metadata": {
      "slideshow": {
       "slide_type": "slide"
      }
     },
     "source": [
      "Mongo allows us to access subfields directly."
     ]
    },
    {
     "cell_type": "code",
     "collapsed": false,
     "input": [
      "mentions_followers = list(db.tweets.find(fields=['entities.user_mentions', 'user.followers_count']))\n",
      "pd.DataFrame(mentions_followers).head()"
     ],
     "language": "python",
     "metadata": {
      "slideshow": {
       "slide_type": "-"
      }
     },
     "outputs": [
      {
       "html": [
        "<div style=\"max-height:1000px;max-width:1500px;overflow:auto;\">\n",
        "<table border=\"1\" class=\"dataframe\">\n",
        "  <thead>\n",
        "    <tr style=\"text-align: right;\">\n",
        "      <th></th>\n",
        "      <th>_id</th>\n",
        "      <th>entities</th>\n",
        "      <th>user</th>\n",
        "    </tr>\n",
        "  </thead>\n",
        "  <tbody>\n",
        "    <tr>\n",
        "      <th>0</th>\n",
        "      <td> 5365d29b0370cc069749c414</td>\n",
        "      <td>                            {u'user_mentions': []}</td>\n",
        "      <td>  {u'followers_count': 53}</td>\n",
        "    </tr>\n",
        "    <tr>\n",
        "      <th>1</th>\n",
        "      <td> 5365d29b0370cc069749c41f</td>\n",
        "      <td>                            {u'user_mentions': []}</td>\n",
        "      <td> {u'followers_count': 484}</td>\n",
        "    </tr>\n",
        "    <tr>\n",
        "      <th>2</th>\n",
        "      <td> 5365d29b0370cc069749c410</td>\n",
        "      <td> {u'user_mentions': [{u'indices': [3, 17], u'sc...</td>\n",
        "      <td> {u'followers_count': 522}</td>\n",
        "    </tr>\n",
        "    <tr>\n",
        "      <th>3</th>\n",
        "      <td> 5365d29b0370cc069749c411</td>\n",
        "      <td> {u'user_mentions': [{u'indices': [3, 14], u'sc...</td>\n",
        "      <td> {u'followers_count': 654}</td>\n",
        "    </tr>\n",
        "    <tr>\n",
        "      <th>4</th>\n",
        "      <td> 5365d29b0370cc069749c412</td>\n",
        "      <td> {u'user_mentions': [{u'indices': [3, 17], u'sc...</td>\n",
        "      <td> {u'followers_count': 320}</td>\n",
        "    </tr>\n",
        "  </tbody>\n",
        "</table>\n",
        "<p>5 rows \u00d7 3 columns</p>\n",
        "</div>"
       ],
       "metadata": {},
       "output_type": "pyout",
       "prompt_number": 26,
       "text": [
        "                        _id  \\\n",
        "0  5365d29b0370cc069749c414   \n",
        "1  5365d29b0370cc069749c41f   \n",
        "2  5365d29b0370cc069749c410   \n",
        "3  5365d29b0370cc069749c411   \n",
        "4  5365d29b0370cc069749c412   \n",
        "\n",
        "                                            entities  \\\n",
        "0                             {u'user_mentions': []}   \n",
        "1                             {u'user_mentions': []}   \n",
        "2  {u'user_mentions': [{u'indices': [3, 17], u'sc...   \n",
        "3  {u'user_mentions': [{u'indices': [3, 14], u'sc...   \n",
        "4  {u'user_mentions': [{u'indices': [3, 17], u'sc...   \n",
        "\n",
        "                        user  \n",
        "0   {u'followers_count': 53}  \n",
        "1  {u'followers_count': 484}  \n",
        "2  {u'followers_count': 522}  \n",
        "3  {u'followers_count': 654}  \n",
        "4  {u'followers_count': 320}  \n",
        "\n",
        "[5 rows x 3 columns]"
       ]
      }
     ],
     "prompt_number": 26
    },
    {
     "cell_type": "markdown",
     "metadata": {
      "slideshow": {
       "slide_type": "subslide"
      }
     },
     "source": [
      "Pandas doesn't know how to parse the sub-documents however, so we must tell it explicitly:"
     ]
    },
    {
     "cell_type": "code",
     "collapsed": false,
     "input": [
      "mentions_followers_df = pd.DataFrame({'user_mentions': len(tweet['entities']['user_mentions']), \n",
      "              'followers_count': tweet['user'].get('followers_count')} for tweet in mentions_followers)\n",
      "mentions_followers_df.head()"
     ],
     "language": "python",
     "metadata": {
      "slideshow": {
       "slide_type": "-"
      }
     },
     "outputs": [
      {
       "html": [
        "<div style=\"max-height:1000px;max-width:1500px;overflow:auto;\">\n",
        "<table border=\"1\" class=\"dataframe\">\n",
        "  <thead>\n",
        "    <tr style=\"text-align: right;\">\n",
        "      <th></th>\n",
        "      <th>followers_count</th>\n",
        "      <th>user_mentions</th>\n",
        "    </tr>\n",
        "  </thead>\n",
        "  <tbody>\n",
        "    <tr>\n",
        "      <th>0</th>\n",
        "      <td>  53</td>\n",
        "      <td> 0</td>\n",
        "    </tr>\n",
        "    <tr>\n",
        "      <th>1</th>\n",
        "      <td> 484</td>\n",
        "      <td> 0</td>\n",
        "    </tr>\n",
        "    <tr>\n",
        "      <th>2</th>\n",
        "      <td> 522</td>\n",
        "      <td> 1</td>\n",
        "    </tr>\n",
        "    <tr>\n",
        "      <th>3</th>\n",
        "      <td> 654</td>\n",
        "      <td> 1</td>\n",
        "    </tr>\n",
        "    <tr>\n",
        "      <th>4</th>\n",
        "      <td> 320</td>\n",
        "      <td> 1</td>\n",
        "    </tr>\n",
        "  </tbody>\n",
        "</table>\n",
        "<p>5 rows \u00d7 2 columns</p>\n",
        "</div>"
       ],
       "metadata": {},
       "output_type": "pyout",
       "prompt_number": 27,
       "text": [
        "   followers_count  user_mentions\n",
        "0               53              0\n",
        "1              484              0\n",
        "2              522              1\n",
        "3              654              1\n",
        "4              320              1\n",
        "\n",
        "[5 rows x 2 columns]"
       ]
      }
     ],
     "prompt_number": 27
    },
    {
     "cell_type": "code",
     "collapsed": false,
     "input": [
      "%matplotlib inline"
     ],
     "language": "python",
     "metadata": {},
     "outputs": [],
     "prompt_number": 28
    },
    {
     "cell_type": "markdown",
     "metadata": {
      "slideshow": {
       "slide_type": "slide"
      }
     },
     "source": [
      "Perhaps `user_mentions` and `followers_count` are correlated?"
     ]
    },
    {
     "cell_type": "code",
     "collapsed": false,
     "input": [
      "plt.scatter(mentions_followers_df.user_mentions, mentions_followers_df.followers_count)\n",
      "mentions_followers_df.corr()"
     ],
     "language": "python",
     "metadata": {
      "slideshow": {
       "slide_type": "-"
      }
     },
     "outputs": [
      {
       "html": [
        "<div style=\"max-height:1000px;max-width:1500px;overflow:auto;\">\n",
        "<table border=\"1\" class=\"dataframe\">\n",
        "  <thead>\n",
        "    <tr style=\"text-align: right;\">\n",
        "      <th></th>\n",
        "      <th>followers_count</th>\n",
        "      <th>user_mentions</th>\n",
        "    </tr>\n",
        "  </thead>\n",
        "  <tbody>\n",
        "    <tr>\n",
        "      <th>followers_count</th>\n",
        "      <td> 1.000000</td>\n",
        "      <td> 0.275711</td>\n",
        "    </tr>\n",
        "    <tr>\n",
        "      <th>user_mentions</th>\n",
        "      <td> 0.275711</td>\n",
        "      <td> 1.000000</td>\n",
        "    </tr>\n",
        "  </tbody>\n",
        "</table>\n",
        "<p>2 rows \u00d7 2 columns</p>\n",
        "</div>"
       ],
       "metadata": {},
       "output_type": "pyout",
       "prompt_number": 29,
       "text": [
        "                 followers_count  user_mentions\n",
        "followers_count         1.000000       0.275711\n",
        "user_mentions           0.275711       1.000000\n",
        "\n",
        "[2 rows x 2 columns]"
       ]
      },
      {
       "metadata": {},
       "output_type": "display_data",
       "png": "[encoded data removed]",
       "text": [
        "<matplotlib.figure.Figure at 0x108466410>"
       ]
      }
     ],
     "prompt_number": 29
    },
    {
     "cell_type": "markdown",
     "metadata": {
      "slideshow": {
       "slide_type": "fragment"
      }
     },
     "source": [
      "Perhaps not."
     ]
    },
    {
     "cell_type": "markdown",
     "metadata": {
      "slideshow": {
       "slide_type": "slide"
      }
     },
     "source": [
      "Lab\n",
      "============\n",
      "1-2 Pairs\n",
      "------------"
     ]
    },
    {
     "cell_type": "markdown",
     "metadata": {
      "slideshow": {
       "slide_type": "notes"
      }
     },
     "source": [
      "Raise two fingers if you understand the material well.  \n",
      "Raise one finger if you understand this material OK.  \n",
      "Now, 1 find a 2 and sit next to them. While you work through this exercise, only 1's can type."
     ]
    },
    {
     "cell_type": "markdown",
     "metadata": {
      "slideshow": {
       "slide_type": "fragment"
      }
     },
     "source": [
      "The [Yahoo! Where On Earth ID](https://developer.yahoo.com/geo/geoplanet/) of Canada is 23424775.  \n",
      "Use it to find Twitter trends in Canada and compare it to US trends. What's the difference between them?  \n",
      "\n",
      "- Insert the last 100 tweets for all Canada-only trends into a `canada` collection.  \n",
      "- Insert the last 100 tweets for all US-only trends into a `us` collections.  \n",
      "- For this (small and not very representative) sample, which users have the highest `follower_count`?"
     ]
    },
    {
     "cell_type": "code",
     "collapsed": false,
     "input": [
      "CAN_WOE_ID = 23424775"
     ],
     "language": "python",
     "metadata": {},
     "outputs": [],
     "prompt_number": 30
    },
    {
     "cell_type": "code",
     "collapsed": false,
     "input": [
      "can_trends = twitter_api.trends.place(_id=CAN_WOE_ID)\n",
      "us_trends = twitter_api.trends.place(_id=US_WOE_ID)\n",
      "\n",
      "pprint(can_trends)\n"
     ],
     "language": "python",
     "metadata": {},
     "outputs": [
      {
       "output_type": "stream",
       "stream": "stdout",
       "text": [
        "[{u'as_of': u'2014-05-05T05:09:36Z',\n",
        "  u'created_at': u'2014-05-05T05:06:58Z',\n",
        "  u'locations': [{u'name': u'Canada', u'woeid': 23424775}],\n",
        "  u'trends': [{u'name': u'#DONTSTOPLYRICVIDEO',\n",
        "               u'promoted_content': None,\n",
        "               u'query': u'%23DONTSTOPLYRICVIDEO',\n",
        "               u'url': u'http://twitter.com/search?q=%23DONTSTOPLYRICVIDEO'},\n",
        "              {u'name': u'#WeStillTheNorth',\n",
        "               u'promoted_content': None,\n",
        "               u'query': u'%23WeStillTheNorth',\n",
        "               u'url': u'http://twitter.com/search?q=%23WeStillTheNorth'},\n",
        "              {u'name': u'#MayThe4thBeWithYou',\n",
        "               u'promoted_content': None,\n",
        "               u'query': u'%23MayThe4thBeWithYou',\n",
        "               u'url': u'http://twitter.com/search?q=%23MayThe4thBeWithYou'},\n",
        "              {u'name': u'#StarWarsDay',\n",
        "               u'promoted_content': None,\n",
        "               u'query': u'%23StarWarsDay',\n",
        "               u'url': u'http://twitter.com/search?q=%23StarWarsDay'},\n",
        "              {u'name': u'#wweextremerules',\n",
        "               u'promoted_content': None,\n",
        "               u'query': u'%23wweextremerules',\n",
        "               u'url': u'http://twitter.com/search?q=%23wweextremerules'},\n",
        "              {u'name': u'Jon Snow',\n",
        "               u'promoted_content': None,\n",
        "               u'query': u'%22Jon+Snow%22',\n",
        "               u'url': u'http://twitter.com/search?q=%22Jon+Snow%22'},\n",
        "              {u'name': u'Luke Bryan',\n",
        "               u'promoted_content': None,\n",
        "               u'query': u'%22Luke+Bryan%22',\n",
        "               u'url': u'http://twitter.com/search?q=%22Luke+Bryan%22'},\n",
        "              {u'name': u'Andrew Garfield',\n",
        "               u'promoted_content': None,\n",
        "               u'query': u'%22Andrew+Garfield%22',\n",
        "               u'url': u'http://twitter.com/search?q=%22Andrew+Garfield%22'},\n",
        "              {u'name': u'Spider-Man',\n",
        "               u'promoted_content': None,\n",
        "               u'query': u'Spider-Man',\n",
        "               u'url': u'http://twitter.com/search?q=Spider-Man'},\n",
        "              {u'name': u'Canada',\n",
        "               u'promoted_content': None,\n",
        "               u'query': u'Canada',\n",
        "               u'url': u'http://twitter.com/search?q=Canada'}]}]\n"
       ]
      }
     ],
     "prompt_number": 59
    },
    {
     "cell_type": "code",
     "collapsed": false,
     "input": [
      "pprint(us_trends)"
     ],
     "language": "python",
     "metadata": {},
     "outputs": [
      {
       "output_type": "stream",
       "stream": "stdout",
       "text": [
        "[{u'as_of': u'2014-05-04T22:14:50Z',\n",
        "  u'created_at': u'2014-05-04T22:10:49Z',\n",
        "  u'locations': [{u'name': u'United States', u'woeid': 23424977}],\n",
        "  u'trends': [{u'name': u'JB Holmes',\n",
        "               u'promoted_content': None,\n",
        "               u'query': u'%22JB+Holmes%22',\n",
        "               u'url': u'http://twitter.com/search?q=%22JB+Holmes%22'},\n",
        "              {u'name': u'#harrystylesgivesmechestpains',\n",
        "               u'promoted_content': None,\n",
        "               u'query': u'%23harrystylesgivesmechestpains',\n",
        "               u'url': u'http://twitter.com/search?q=%23harrystylesgivesmechestpains'},\n",
        "              {u'name': u'#AppreciationforZaynMalik',\n",
        "               u'promoted_content': None,\n",
        "               u'query': u'%23AppreciationforZaynMalik',\n",
        "               u'url': u'http://twitter.com/search?q=%23AppreciationforZaynMalik'},\n",
        "              {u'name': u'Happy Star Wars Day',\n",
        "               u'promoted_content': None,\n",
        "               u'query': u'%22Happy+Star+Wars+Day%22',\n",
        "               u'url': u'http://twitter.com/search?q=%22Happy+Star+Wars+Day%22'},\n",
        "              {u'name': u'#SamWoolfOnEllen',\n",
        "               u'promoted_content': None,\n",
        "               u'query': u'%23SamWoolfOnEllen',\n",
        "               u'url': u'http://twitter.com/search?q=%23SamWoolfOnEllen'},\n",
        "              {u'name': u'#BlessLiamforMakingAnInstagram',\n",
        "               u'promoted_content': None,\n",
        "               u'query': u'%23BlessLiamforMakingAnInstagram',\n",
        "               u'url': u'http://twitter.com/search?q=%23BlessLiamforMakingAnInstagram'},\n",
        "              {u'name': u'#MayThe4thBeWithYou',\n",
        "               u'promoted_content': None,\n",
        "               u'query': u'%23MayThe4thBeWithYou',\n",
        "               u'url': u'http://twitter.com/search?q=%23MayThe4thBeWithYou'},\n",
        "              {u'name': u'What Kids Do In The Park Nowadays',\n",
        "               u'promoted_content': None,\n",
        "               u'query': u'%22What+Kids+Do+In+The+Park+Nowadays%22',\n",
        "               u'url': u'http://twitter.com/search?q=%22What+Kids+Do+In+The+Park+Nowadays%22'},\n",
        "              {u'name': u'Pearl Harbor',\n",
        "               u'promoted_content': None,\n",
        "               u'query': u'%22Pearl+Harbor%22',\n",
        "               u'url': u'http://twitter.com/search?q=%22Pearl+Harbor%22'},\n",
        "              {u'name': u'The Waterboy',\n",
        "               u'promoted_content': None,\n",
        "               u'query': u'%22The+Waterboy%22',\n",
        "               u'url': u'http://twitter.com/search?q=%22The+Waterboy%22'}]}]\n"
       ]
      }
     ],
     "prompt_number": 32
    },
    {
     "cell_type": "code",
     "collapsed": false,
     "input": [
      "can_trends_set = set([trend['name'] for trends in can_trends\n",
      "                        for trend in trends['trends']])\n",
      "\n",
      "us_trends_set = set([trend['name'] for trends in us_trends\n",
      "                     for trend in trends['trends']]) \n",
      "\n",
      "can_only = can_trends_set.difference(us_trends_set)\n",
      "us_only = us_trends_set.difference(can_trends_set)"
     ],
     "language": "python",
     "metadata": {},
     "outputs": [],
     "prompt_number": 33
    },
    {
     "cell_type": "code",
     "collapsed": false,
     "input": [
      "print can_only\n",
      "print us_only"
     ],
     "language": "python",
     "metadata": {},
     "outputs": [
      {
       "output_type": "stream",
       "stream": "stdout",
       "text": [
        "set([u'#StarWarsDay', u'#AskRack', u'Miami', u'Tony Parker', u'Bryan Bickell', u'#meteor', u'Brooklyn', u'Starbucks', u'#WeStillTheNorth'])\n",
        "set([u'#BlessLiamforMakingAnInstagram', u'JB Holmes', u'#AppreciationforZaynMalik', u'#harrystylesgivesmechestpains', u'Happy Star Wars Day', u'#SamWoolfOnEllen', u'What Kids Do In The Park Nowadays', u'The Waterboy', u'Pearl Harbor'])\n"
       ]
      }
     ],
     "prompt_number": 34
    },
    {
     "cell_type": "code",
     "collapsed": false,
     "input": [
      "can = can_trends[0]['trends'][0]['name']"
     ],
     "language": "python",
     "metadata": {},
     "outputs": [],
     "prompt_number": 36
    },
    {
     "cell_type": "code",
     "collapsed": false,
     "input": [
      "print can"
     ],
     "language": "python",
     "metadata": {},
     "outputs": [
      {
       "output_type": "stream",
       "stream": "stdout",
       "text": [
        "#WeStillTheNorth\n"
       ]
      }
     ],
     "prompt_number": 37
    },
    {
     "cell_type": "code",
     "collapsed": false,
     "input": [
      "can_only_list = list(can_only)\n",
      "\n",
      "print can_only_list"
     ],
     "language": "python",
     "metadata": {},
     "outputs": [
      {
       "output_type": "stream",
       "stream": "stdout",
       "text": [
        "[u'#StarWarsDay', u'#AskRack', u'Miami', u'Tony Parker', u'Bryan Bickell', u'#meteor', u'Brooklyn', u'Starbucks', u'#WeStillTheNorth']\n"
       ]
      }
     ],
     "prompt_number": 38
    },
    {
     "cell_type": "code",
     "collapsed": false,
     "input": [
      "count = 100\n",
      "\n",
      "for trend in can_only_list:\n",
      "        search_results = twitter_api.search.tweets(q=trend, count=count)\n",
      "        statuses = search_results['statuses']\n",
      "        db.can.insert(statuses)"
     ],
     "language": "python",
     "metadata": {},
     "outputs": [],
     "prompt_number": 49
    },
    {
     "cell_type": "code",
     "collapsed": false,
     "input": [
      "db.can.count()"
     ],
     "language": "python",
     "metadata": {},
     "outputs": [
      {
       "metadata": {},
       "output_type": "pyout",
       "prompt_number": 50,
       "text": [
        "797"
       ]
      }
     ],
     "prompt_number": 50
    },
    {
     "cell_type": "raw",
     "metadata": {},
     "source": [
      "print can_only_list"
     ]
    },
    {
     "cell_type": "code",
     "collapsed": false,
     "input": [
      "\n",
      "can = can_trends[0]['trends'][0]['name']\n",
      "\n",
      "count = 100\n",
      "\n",
      "# See https://dev.twitter.com/docs/api/1.1/get/search/tweets\n",
      "\n",
      "\n",
      "search_results = twitter_api.search.tweets(q=q, count=count)\n",
      "\n",
      "statuses = search_results['statuses']"
     ],
     "language": "python",
     "metadata": {},
     "outputs": [],
     "prompt_number": 45
    },
    {
     "cell_type": "code",
     "collapsed": false,
     "input": [
      "type(search_results)"
     ],
     "language": "python",
     "metadata": {},
     "outputs": [
      {
       "metadata": {},
       "output_type": "pyout",
       "prompt_number": 46,
       "text": [
        "twitter.api.TwitterDictResponse"
       ]
      }
     ],
     "prompt_number": 46
    },
    {
     "cell_type": "code",
     "collapsed": false,
     "input": [
      "if 'next_results' in search_results['search_metadata']:\n",
      "    next_results = search_results['search_metadata']['next_results']\n",
      "    kwargs = dict([ kv.split('=') for kv in next_results[1:].split(\"&\") ])\n",
      "    search_results = twitter_api.search.tweets(**kwargs)\n",
      "    statuses += search_results['statuses']\n",
      "\n",
      "len(statuses)"
     ],
     "language": "python",
     "metadata": {},
     "outputs": [
      {
       "metadata": {},
       "output_type": "pyout",
       "prompt_number": 47,
       "text": [
        "200"
       ]
      }
     ],
     "prompt_number": 47
    },
    {
     "cell_type": "code",
     "collapsed": false,
     "input": [
      "db.can.count()"
     ],
     "language": "python",
     "metadata": {},
     "outputs": [
      {
       "metadata": {},
       "output_type": "pyout",
       "prompt_number": 57,
       "text": [
        "1697"
       ]
      }
     ],
     "prompt_number": 57
    },
    {
     "cell_type": "code",
     "collapsed": false,
     "input": [
      "us_only_list = list(us_only)\n",
      "\n",
      "print us_only_list"
     ],
     "language": "python",
     "metadata": {},
     "outputs": [
      {
       "output_type": "stream",
       "stream": "stdout",
       "text": [
        "[u'#BlessLiamforMakingAnInstagram', u'JB Holmes', u'#AppreciationforZaynMalik', u'#harrystylesgivesmechestpains', u'Happy Star Wars Day', u'#SamWoolfOnEllen', u'What Kids Do In The Park Nowadays', u'The Waterboy', u'Pearl Harbor']\n"
       ]
      }
     ],
     "prompt_number": 49
    },
    {
     "cell_type": "code",
     "collapsed": false,
     "input": [
      "us = us_trends[0]['trends'][0]['name']\n",
      "\n",
      "count = 100\n",
      "\n",
      "for trend in us_only_list:\n",
      "        search_results = twitter_api.search.tweets(q=us, count=count)\n",
      "        statuses = search_results['statuses']\n",
      "        db.us.insert(statuses)"
     ],
     "language": "python",
     "metadata": {},
     "outputs": [],
     "prompt_number": 51
    },
    {
     "cell_type": "code",
     "collapsed": false,
     "input": [
      "db.us.count()"
     ],
     "language": "python",
     "metadata": {},
     "outputs": [
      {
       "metadata": {},
       "output_type": "pyout",
       "prompt_number": 52,
       "text": [
        "900"
       ]
      }
     ],
     "prompt_number": 52
    },
    {
     "cell_type": "code",
     "collapsed": false,
     "input": [
      "db.twitter"
     ],
     "language": "python",
     "metadata": {},
     "outputs": [
      {
       "metadata": {},
       "output_type": "pyout",
       "prompt_number": 58,
       "text": [
        "Collection(Database(MongoClient('localhost', 27017), u'twitter'), u'twitter')"
       ]
      }
     ],
     "prompt_number": 58
    },
    {
     "cell_type": "code",
     "collapsed": false,
     "input": [],
     "language": "python",
     "metadata": {},
     "outputs": []
    },
    {
     "cell_type": "code",
     "collapsed": false,
     "input": [],
     "language": "python",
     "metadata": {},
     "outputs": []
    },
    {
     "cell_type": "code",
     "collapsed": false,
     "input": [],
     "language": "python",
     "metadata": {},
     "outputs": []
    },
    {
     "cell_type": "markdown",
     "metadata": {
      "slideshow": {
       "slide_type": "fragment"
      }
     },
     "source": [
      "Individually:\n",
      "------------\n",
      "Find tweets where `'retweet_count': {\"$gt\": 0}`.  \n",
      "What is their `count`?  \n",
      "Is there anything about them that stands out as retweetable?"
     ]
    },
    {
     "cell_type": "markdown",
     "metadata": {
      "slideshow": {
       "slide_type": "notes"
      }
     },
     "source": [
      "Further exercises:  \n",
      "\n",
      "* Twitter - _Mining-the-Social-Web-2nd-Edition_: [Chapter 1 - Mining Twitter](http://nbviewer.ipython.org/github/ptwobrussell/Mining-the-Social-Web-2nd-Edition/blob/master/ipynb/__Chapter%201%20-%20Mining%20Twitter%20%28Full-Text%20Sampler%29.ipynb)\n",
      "* Mongo - [Aggregation Framework](http://docs.mongodb.org/manual/aggregation/)"
     ]
    },
    {
     "cell_type": "markdown",
     "metadata": {
      "slideshow": {
       "slide_type": "slide"
      }
     },
     "source": [
      "Next week:\n",
      "==============\n",
      "Exploring Data\n",
      "--------------"
     ]
    }
   ],
   "metadata": {}
  }
 ]
}